{
  "nbformat": 4,
  "nbformat_minor": 0,
  "metadata": {
    "colab": {
      "provenance": [],
      "toc_visible": true
    },
    "kernelspec": {
      "name": "python3",
      "display_name": "Python 3"
    },
    "language_info": {
      "name": "python"
    },
    "gpuClass": "standard",
    "accelerator": "GPU"
  },
  "cells": [
    {
      "cell_type": "markdown",
      "source": [
        "### Version History\n",
        "* Time_series_forcasting_with_tf_0130_1C, original\n",
        "* Time_series_forcasting_with_tf_0130_1D, add visuals"
      ],
      "metadata": {
        "id": "VzEZRHv16j2a"
      }
    },
    {
      "cell_type": "markdown",
      "source": [
        "### Load the data"
      ],
      "metadata": {
        "id": "7ihM6K6rvrmg"
      }
    },
    {
      "cell_type": "code",
      "execution_count": 1,
      "metadata": {
        "colab": {
          "base_uri": "https://localhost:8080/"
        },
        "id": "2EGPP6t4ehHP",
        "outputId": "57cb2e75-57d5-4db8-8805-b42392813a07"
      },
      "outputs": [
        {
          "output_type": "stream",
          "name": "stdout",
          "text": [
            "--2023-01-30 18:19:42--  https://raw.githubusercontent.com/mrdbourke/tensorflow-deep-learning/main/extras/BTC_USD_2013-10-01_2021-05-18-CoinDesk.csv\n",
            "Resolving raw.githubusercontent.com (raw.githubusercontent.com)... 185.199.108.133, 185.199.109.133, 185.199.110.133, ...\n",
            "Connecting to raw.githubusercontent.com (raw.githubusercontent.com)|185.199.108.133|:443... connected.\n",
            "HTTP request sent, awaiting response... 200 OK\n",
            "Length: 178509 (174K) [text/plain]\n",
            "Saving to: ‘BTC_USD_2013-10-01_2021-05-18-CoinDesk.csv’\n",
            "\n",
            "\r          BTC_USD_2   0%[                    ]       0  --.-KB/s               \rBTC_USD_2013-10-01_ 100%[===================>] 174.33K  --.-KB/s    in 0.003s  \n",
            "\n",
            "2023-01-30 18:19:42 (60.9 MB/s) - ‘BTC_USD_2013-10-01_2021-05-18-CoinDesk.csv’ saved [178509/178509]\n",
            "\n"
          ]
        }
      ],
      "source": [
        "# Download Bitcoin historical data from GitHub \n",
        "# Note: you'll need to select \"Raw\" to download the data in the correct format\n",
        "!wget https://raw.githubusercontent.com/mrdbourke/tensorflow-deep-learning/main/extras/BTC_USD_2013-10-01_2021-05-18-CoinDesk.csv "
      ]
    },
    {
      "cell_type": "code",
      "source": [
        "# Import with pandas \n",
        "import pandas as pd\n",
        "# Parse dates and set date column to index\n",
        "df = pd.read_csv(\"/content/BTC_USD_2013-10-01_2021-05-18-CoinDesk.csv\", \n",
        "                 parse_dates=[\"Date\"], \n",
        "                 index_col=[\"Date\"]) # parse the date column (tell pandas column 1 is a datetime)\n",
        "df.head()"
      ],
      "metadata": {
        "colab": {
          "base_uri": "https://localhost:8080/",
          "height": 238
        },
        "id": "FjkFRVUFfS07",
        "outputId": "fd502462-6920-49cc-928e-71fa35db07eb"
      },
      "execution_count": 2,
      "outputs": [
        {
          "output_type": "execute_result",
          "data": {
            "text/plain": [
              "           Currency  Closing Price (USD)  24h Open (USD)  24h High (USD)  \\\n",
              "Date                                                                       \n",
              "2013-10-01      BTC            123.65499       124.30466       124.75166   \n",
              "2013-10-02      BTC            125.45500       123.65499       125.75850   \n",
              "2013-10-03      BTC            108.58483       125.45500       125.66566   \n",
              "2013-10-04      BTC            118.67466       108.58483       118.67500   \n",
              "2013-10-05      BTC            121.33866       118.67466       121.93633   \n",
              "\n",
              "            24h Low (USD)  \n",
              "Date                       \n",
              "2013-10-01      122.56349  \n",
              "2013-10-02      123.63383  \n",
              "2013-10-03       83.32833  \n",
              "2013-10-04      107.05816  \n",
              "2013-10-05      118.00566  "
            ],
            "text/html": [
              "\n",
              "  <div id=\"df-111f5076-2b4d-493a-8cf1-d0df6cf80c5c\">\n",
              "    <div class=\"colab-df-container\">\n",
              "      <div>\n",
              "<style scoped>\n",
              "    .dataframe tbody tr th:only-of-type {\n",
              "        vertical-align: middle;\n",
              "    }\n",
              "\n",
              "    .dataframe tbody tr th {\n",
              "        vertical-align: top;\n",
              "    }\n",
              "\n",
              "    .dataframe thead th {\n",
              "        text-align: right;\n",
              "    }\n",
              "</style>\n",
              "<table border=\"1\" class=\"dataframe\">\n",
              "  <thead>\n",
              "    <tr style=\"text-align: right;\">\n",
              "      <th></th>\n",
              "      <th>Currency</th>\n",
              "      <th>Closing Price (USD)</th>\n",
              "      <th>24h Open (USD)</th>\n",
              "      <th>24h High (USD)</th>\n",
              "      <th>24h Low (USD)</th>\n",
              "    </tr>\n",
              "    <tr>\n",
              "      <th>Date</th>\n",
              "      <th></th>\n",
              "      <th></th>\n",
              "      <th></th>\n",
              "      <th></th>\n",
              "      <th></th>\n",
              "    </tr>\n",
              "  </thead>\n",
              "  <tbody>\n",
              "    <tr>\n",
              "      <th>2013-10-01</th>\n",
              "      <td>BTC</td>\n",
              "      <td>123.65499</td>\n",
              "      <td>124.30466</td>\n",
              "      <td>124.75166</td>\n",
              "      <td>122.56349</td>\n",
              "    </tr>\n",
              "    <tr>\n",
              "      <th>2013-10-02</th>\n",
              "      <td>BTC</td>\n",
              "      <td>125.45500</td>\n",
              "      <td>123.65499</td>\n",
              "      <td>125.75850</td>\n",
              "      <td>123.63383</td>\n",
              "    </tr>\n",
              "    <tr>\n",
              "      <th>2013-10-03</th>\n",
              "      <td>BTC</td>\n",
              "      <td>108.58483</td>\n",
              "      <td>125.45500</td>\n",
              "      <td>125.66566</td>\n",
              "      <td>83.32833</td>\n",
              "    </tr>\n",
              "    <tr>\n",
              "      <th>2013-10-04</th>\n",
              "      <td>BTC</td>\n",
              "      <td>118.67466</td>\n",
              "      <td>108.58483</td>\n",
              "      <td>118.67500</td>\n",
              "      <td>107.05816</td>\n",
              "    </tr>\n",
              "    <tr>\n",
              "      <th>2013-10-05</th>\n",
              "      <td>BTC</td>\n",
              "      <td>121.33866</td>\n",
              "      <td>118.67466</td>\n",
              "      <td>121.93633</td>\n",
              "      <td>118.00566</td>\n",
              "    </tr>\n",
              "  </tbody>\n",
              "</table>\n",
              "</div>\n",
              "      <button class=\"colab-df-convert\" onclick=\"convertToInteractive('df-111f5076-2b4d-493a-8cf1-d0df6cf80c5c')\"\n",
              "              title=\"Convert this dataframe to an interactive table.\"\n",
              "              style=\"display:none;\">\n",
              "        \n",
              "  <svg xmlns=\"http://www.w3.org/2000/svg\" height=\"24px\"viewBox=\"0 0 24 24\"\n",
              "       width=\"24px\">\n",
              "    <path d=\"M0 0h24v24H0V0z\" fill=\"none\"/>\n",
              "    <path d=\"M18.56 5.44l.94 2.06.94-2.06 2.06-.94-2.06-.94-.94-2.06-.94 2.06-2.06.94zm-11 1L8.5 8.5l.94-2.06 2.06-.94-2.06-.94L8.5 2.5l-.94 2.06-2.06.94zm10 10l.94 2.06.94-2.06 2.06-.94-2.06-.94-.94-2.06-.94 2.06-2.06.94z\"/><path d=\"M17.41 7.96l-1.37-1.37c-.4-.4-.92-.59-1.43-.59-.52 0-1.04.2-1.43.59L10.3 9.45l-7.72 7.72c-.78.78-.78 2.05 0 2.83L4 21.41c.39.39.9.59 1.41.59.51 0 1.02-.2 1.41-.59l7.78-7.78 2.81-2.81c.8-.78.8-2.07 0-2.86zM5.41 20L4 18.59l7.72-7.72 1.47 1.35L5.41 20z\"/>\n",
              "  </svg>\n",
              "      </button>\n",
              "      \n",
              "  <style>\n",
              "    .colab-df-container {\n",
              "      display:flex;\n",
              "      flex-wrap:wrap;\n",
              "      gap: 12px;\n",
              "    }\n",
              "\n",
              "    .colab-df-convert {\n",
              "      background-color: #E8F0FE;\n",
              "      border: none;\n",
              "      border-radius: 50%;\n",
              "      cursor: pointer;\n",
              "      display: none;\n",
              "      fill: #1967D2;\n",
              "      height: 32px;\n",
              "      padding: 0 0 0 0;\n",
              "      width: 32px;\n",
              "    }\n",
              "\n",
              "    .colab-df-convert:hover {\n",
              "      background-color: #E2EBFA;\n",
              "      box-shadow: 0px 1px 2px rgba(60, 64, 67, 0.3), 0px 1px 3px 1px rgba(60, 64, 67, 0.15);\n",
              "      fill: #174EA6;\n",
              "    }\n",
              "\n",
              "    [theme=dark] .colab-df-convert {\n",
              "      background-color: #3B4455;\n",
              "      fill: #D2E3FC;\n",
              "    }\n",
              "\n",
              "    [theme=dark] .colab-df-convert:hover {\n",
              "      background-color: #434B5C;\n",
              "      box-shadow: 0px 1px 3px 1px rgba(0, 0, 0, 0.15);\n",
              "      filter: drop-shadow(0px 1px 2px rgba(0, 0, 0, 0.3));\n",
              "      fill: #FFFFFF;\n",
              "    }\n",
              "  </style>\n",
              "\n",
              "      <script>\n",
              "        const buttonEl =\n",
              "          document.querySelector('#df-111f5076-2b4d-493a-8cf1-d0df6cf80c5c button.colab-df-convert');\n",
              "        buttonEl.style.display =\n",
              "          google.colab.kernel.accessAllowed ? 'block' : 'none';\n",
              "\n",
              "        async function convertToInteractive(key) {\n",
              "          const element = document.querySelector('#df-111f5076-2b4d-493a-8cf1-d0df6cf80c5c');\n",
              "          const dataTable =\n",
              "            await google.colab.kernel.invokeFunction('convertToInteractive',\n",
              "                                                     [key], {});\n",
              "          if (!dataTable) return;\n",
              "\n",
              "          const docLinkHtml = 'Like what you see? Visit the ' +\n",
              "            '<a target=\"_blank\" href=https://colab.research.google.com/notebooks/data_table.ipynb>data table notebook</a>'\n",
              "            + ' to learn more about interactive tables.';\n",
              "          element.innerHTML = '';\n",
              "          dataTable['output_type'] = 'display_data';\n",
              "          await google.colab.output.renderOutput(dataTable, element);\n",
              "          const docLink = document.createElement('div');\n",
              "          docLink.innerHTML = docLinkHtml;\n",
              "          element.appendChild(docLink);\n",
              "        }\n",
              "      </script>\n",
              "    </div>\n",
              "  </div>\n",
              "  "
            ]
          },
          "metadata": {},
          "execution_count": 2
        }
      ]
    },
    {
      "cell_type": "markdown",
      "source": [
        "### Add Multivariable features, eg Interest Rate"
      ],
      "metadata": {
        "id": "NK1fhsC4t2S7"
      }
    },
    {
      "cell_type": "code",
      "source": [
        "df['Multivar1'] = 1      # This column is extra features such as interest_rate etc\n",
        "df['Multivar2'] = 2      # Add as many features as needed\n",
        "\n",
        "EXTRA_FEATURES = 2       # MUST set this variable for correct data model input"
      ],
      "metadata": {
        "id": "sxOY8L6PZZdX"
      },
      "execution_count": 3,
      "outputs": []
    },
    {
      "cell_type": "code",
      "source": [
        "df.head()"
      ],
      "metadata": {
        "colab": {
          "base_uri": "https://localhost:8080/",
          "height": 238
        },
        "id": "081L86jsZ6oV",
        "outputId": "8f15b658-2dc4-4bf8-be45-75b0f96633a9"
      },
      "execution_count": 4,
      "outputs": [
        {
          "output_type": "execute_result",
          "data": {
            "text/plain": [
              "           Currency  Closing Price (USD)  24h Open (USD)  24h High (USD)  \\\n",
              "Date                                                                       \n",
              "2013-10-01      BTC            123.65499       124.30466       124.75166   \n",
              "2013-10-02      BTC            125.45500       123.65499       125.75850   \n",
              "2013-10-03      BTC            108.58483       125.45500       125.66566   \n",
              "2013-10-04      BTC            118.67466       108.58483       118.67500   \n",
              "2013-10-05      BTC            121.33866       118.67466       121.93633   \n",
              "\n",
              "            24h Low (USD)  Multivar1  Multivar2  \n",
              "Date                                             \n",
              "2013-10-01      122.56349          1          2  \n",
              "2013-10-02      123.63383          1          2  \n",
              "2013-10-03       83.32833          1          2  \n",
              "2013-10-04      107.05816          1          2  \n",
              "2013-10-05      118.00566          1          2  "
            ],
            "text/html": [
              "\n",
              "  <div id=\"df-91aa0d60-4399-4db8-945e-2e7d4121e9de\">\n",
              "    <div class=\"colab-df-container\">\n",
              "      <div>\n",
              "<style scoped>\n",
              "    .dataframe tbody tr th:only-of-type {\n",
              "        vertical-align: middle;\n",
              "    }\n",
              "\n",
              "    .dataframe tbody tr th {\n",
              "        vertical-align: top;\n",
              "    }\n",
              "\n",
              "    .dataframe thead th {\n",
              "        text-align: right;\n",
              "    }\n",
              "</style>\n",
              "<table border=\"1\" class=\"dataframe\">\n",
              "  <thead>\n",
              "    <tr style=\"text-align: right;\">\n",
              "      <th></th>\n",
              "      <th>Currency</th>\n",
              "      <th>Closing Price (USD)</th>\n",
              "      <th>24h Open (USD)</th>\n",
              "      <th>24h High (USD)</th>\n",
              "      <th>24h Low (USD)</th>\n",
              "      <th>Multivar1</th>\n",
              "      <th>Multivar2</th>\n",
              "    </tr>\n",
              "    <tr>\n",
              "      <th>Date</th>\n",
              "      <th></th>\n",
              "      <th></th>\n",
              "      <th></th>\n",
              "      <th></th>\n",
              "      <th></th>\n",
              "      <th></th>\n",
              "      <th></th>\n",
              "    </tr>\n",
              "  </thead>\n",
              "  <tbody>\n",
              "    <tr>\n",
              "      <th>2013-10-01</th>\n",
              "      <td>BTC</td>\n",
              "      <td>123.65499</td>\n",
              "      <td>124.30466</td>\n",
              "      <td>124.75166</td>\n",
              "      <td>122.56349</td>\n",
              "      <td>1</td>\n",
              "      <td>2</td>\n",
              "    </tr>\n",
              "    <tr>\n",
              "      <th>2013-10-02</th>\n",
              "      <td>BTC</td>\n",
              "      <td>125.45500</td>\n",
              "      <td>123.65499</td>\n",
              "      <td>125.75850</td>\n",
              "      <td>123.63383</td>\n",
              "      <td>1</td>\n",
              "      <td>2</td>\n",
              "    </tr>\n",
              "    <tr>\n",
              "      <th>2013-10-03</th>\n",
              "      <td>BTC</td>\n",
              "      <td>108.58483</td>\n",
              "      <td>125.45500</td>\n",
              "      <td>125.66566</td>\n",
              "      <td>83.32833</td>\n",
              "      <td>1</td>\n",
              "      <td>2</td>\n",
              "    </tr>\n",
              "    <tr>\n",
              "      <th>2013-10-04</th>\n",
              "      <td>BTC</td>\n",
              "      <td>118.67466</td>\n",
              "      <td>108.58483</td>\n",
              "      <td>118.67500</td>\n",
              "      <td>107.05816</td>\n",
              "      <td>1</td>\n",
              "      <td>2</td>\n",
              "    </tr>\n",
              "    <tr>\n",
              "      <th>2013-10-05</th>\n",
              "      <td>BTC</td>\n",
              "      <td>121.33866</td>\n",
              "      <td>118.67466</td>\n",
              "      <td>121.93633</td>\n",
              "      <td>118.00566</td>\n",
              "      <td>1</td>\n",
              "      <td>2</td>\n",
              "    </tr>\n",
              "  </tbody>\n",
              "</table>\n",
              "</div>\n",
              "      <button class=\"colab-df-convert\" onclick=\"convertToInteractive('df-91aa0d60-4399-4db8-945e-2e7d4121e9de')\"\n",
              "              title=\"Convert this dataframe to an interactive table.\"\n",
              "              style=\"display:none;\">\n",
              "        \n",
              "  <svg xmlns=\"http://www.w3.org/2000/svg\" height=\"24px\"viewBox=\"0 0 24 24\"\n",
              "       width=\"24px\">\n",
              "    <path d=\"M0 0h24v24H0V0z\" fill=\"none\"/>\n",
              "    <path d=\"M18.56 5.44l.94 2.06.94-2.06 2.06-.94-2.06-.94-.94-2.06-.94 2.06-2.06.94zm-11 1L8.5 8.5l.94-2.06 2.06-.94-2.06-.94L8.5 2.5l-.94 2.06-2.06.94zm10 10l.94 2.06.94-2.06 2.06-.94-2.06-.94-.94-2.06-.94 2.06-2.06.94z\"/><path d=\"M17.41 7.96l-1.37-1.37c-.4-.4-.92-.59-1.43-.59-.52 0-1.04.2-1.43.59L10.3 9.45l-7.72 7.72c-.78.78-.78 2.05 0 2.83L4 21.41c.39.39.9.59 1.41.59.51 0 1.02-.2 1.41-.59l7.78-7.78 2.81-2.81c.8-.78.8-2.07 0-2.86zM5.41 20L4 18.59l7.72-7.72 1.47 1.35L5.41 20z\"/>\n",
              "  </svg>\n",
              "      </button>\n",
              "      \n",
              "  <style>\n",
              "    .colab-df-container {\n",
              "      display:flex;\n",
              "      flex-wrap:wrap;\n",
              "      gap: 12px;\n",
              "    }\n",
              "\n",
              "    .colab-df-convert {\n",
              "      background-color: #E8F0FE;\n",
              "      border: none;\n",
              "      border-radius: 50%;\n",
              "      cursor: pointer;\n",
              "      display: none;\n",
              "      fill: #1967D2;\n",
              "      height: 32px;\n",
              "      padding: 0 0 0 0;\n",
              "      width: 32px;\n",
              "    }\n",
              "\n",
              "    .colab-df-convert:hover {\n",
              "      background-color: #E2EBFA;\n",
              "      box-shadow: 0px 1px 2px rgba(60, 64, 67, 0.3), 0px 1px 3px 1px rgba(60, 64, 67, 0.15);\n",
              "      fill: #174EA6;\n",
              "    }\n",
              "\n",
              "    [theme=dark] .colab-df-convert {\n",
              "      background-color: #3B4455;\n",
              "      fill: #D2E3FC;\n",
              "    }\n",
              "\n",
              "    [theme=dark] .colab-df-convert:hover {\n",
              "      background-color: #434B5C;\n",
              "      box-shadow: 0px 1px 3px 1px rgba(0, 0, 0, 0.15);\n",
              "      filter: drop-shadow(0px 1px 2px rgba(0, 0, 0, 0.3));\n",
              "      fill: #FFFFFF;\n",
              "    }\n",
              "  </style>\n",
              "\n",
              "      <script>\n",
              "        const buttonEl =\n",
              "          document.querySelector('#df-91aa0d60-4399-4db8-945e-2e7d4121e9de button.colab-df-convert');\n",
              "        buttonEl.style.display =\n",
              "          google.colab.kernel.accessAllowed ? 'block' : 'none';\n",
              "\n",
              "        async function convertToInteractive(key) {\n",
              "          const element = document.querySelector('#df-91aa0d60-4399-4db8-945e-2e7d4121e9de');\n",
              "          const dataTable =\n",
              "            await google.colab.kernel.invokeFunction('convertToInteractive',\n",
              "                                                     [key], {});\n",
              "          if (!dataTable) return;\n",
              "\n",
              "          const docLinkHtml = 'Like what you see? Visit the ' +\n",
              "            '<a target=\"_blank\" href=https://colab.research.google.com/notebooks/data_table.ipynb>data table notebook</a>'\n",
              "            + ' to learn more about interactive tables.';\n",
              "          element.innerHTML = '';\n",
              "          dataTable['output_type'] = 'display_data';\n",
              "          await google.colab.output.renderOutput(dataTable, element);\n",
              "          const docLink = document.createElement('div');\n",
              "          docLink.innerHTML = docLinkHtml;\n",
              "          element.appendChild(docLink);\n",
              "        }\n",
              "      </script>\n",
              "    </div>\n",
              "  </div>\n",
              "  "
            ]
          },
          "metadata": {},
          "execution_count": 4
        }
      ]
    },
    {
      "cell_type": "markdown",
      "source": [
        "### Prepare Time Series Window"
      ],
      "metadata": {
        "id": "EZ7-2alba-O8"
      }
    },
    {
      "cell_type": "code",
      "source": [
        "# Setup WINDOW_SIZE and HORIZON\n",
        "HORIZON = 1                      # HORIZON = 1 daily price prediction\n",
        "WINDOW_SIZE = 7                  # WINDOW_SIZE = 7  based on previous 7-day historical data"
      ],
      "metadata": {
        "id": "XOLHp0-ca8iz"
      },
      "execution_count": 5,
      "outputs": []
    },
    {
      "cell_type": "code",
      "source": [
        "# make a copy of the data set\n",
        "df_new = df.drop(['Currency', '24h Open (USD)', '24h High (USD)', '24h Low (USD)'], axis=1)"
      ],
      "metadata": {
        "id": "RaagWoGoa8ck"
      },
      "execution_count": 6,
      "outputs": []
    },
    {
      "cell_type": "code",
      "source": [
        "# rename the price column\n",
        "df_new.rename(columns={\"Closing Price (USD)\": \"Price\"}, inplace=True)"
      ],
      "metadata": {
        "id": "ji39GBsxa8Uy"
      },
      "execution_count": 7,
      "outputs": []
    },
    {
      "cell_type": "code",
      "source": [
        "df_new.head()"
      ],
      "metadata": {
        "colab": {
          "base_uri": "https://localhost:8080/",
          "height": 238
        },
        "id": "DsiXjPw5cPPc",
        "outputId": "cb31e240-11f7-4b74-b1a0-276cfdb96cb4"
      },
      "execution_count": 8,
      "outputs": [
        {
          "output_type": "execute_result",
          "data": {
            "text/plain": [
              "                Price  Multivar1  Multivar2\n",
              "Date                                       \n",
              "2013-10-01  123.65499          1          2\n",
              "2013-10-02  125.45500          1          2\n",
              "2013-10-03  108.58483          1          2\n",
              "2013-10-04  118.67466          1          2\n",
              "2013-10-05  121.33866          1          2"
            ],
            "text/html": [
              "\n",
              "  <div id=\"df-2a77c29b-7b0d-40e4-9acf-a6a5f06505db\">\n",
              "    <div class=\"colab-df-container\">\n",
              "      <div>\n",
              "<style scoped>\n",
              "    .dataframe tbody tr th:only-of-type {\n",
              "        vertical-align: middle;\n",
              "    }\n",
              "\n",
              "    .dataframe tbody tr th {\n",
              "        vertical-align: top;\n",
              "    }\n",
              "\n",
              "    .dataframe thead th {\n",
              "        text-align: right;\n",
              "    }\n",
              "</style>\n",
              "<table border=\"1\" class=\"dataframe\">\n",
              "  <thead>\n",
              "    <tr style=\"text-align: right;\">\n",
              "      <th></th>\n",
              "      <th>Price</th>\n",
              "      <th>Multivar1</th>\n",
              "      <th>Multivar2</th>\n",
              "    </tr>\n",
              "    <tr>\n",
              "      <th>Date</th>\n",
              "      <th></th>\n",
              "      <th></th>\n",
              "      <th></th>\n",
              "    </tr>\n",
              "  </thead>\n",
              "  <tbody>\n",
              "    <tr>\n",
              "      <th>2013-10-01</th>\n",
              "      <td>123.65499</td>\n",
              "      <td>1</td>\n",
              "      <td>2</td>\n",
              "    </tr>\n",
              "    <tr>\n",
              "      <th>2013-10-02</th>\n",
              "      <td>125.45500</td>\n",
              "      <td>1</td>\n",
              "      <td>2</td>\n",
              "    </tr>\n",
              "    <tr>\n",
              "      <th>2013-10-03</th>\n",
              "      <td>108.58483</td>\n",
              "      <td>1</td>\n",
              "      <td>2</td>\n",
              "    </tr>\n",
              "    <tr>\n",
              "      <th>2013-10-04</th>\n",
              "      <td>118.67466</td>\n",
              "      <td>1</td>\n",
              "      <td>2</td>\n",
              "    </tr>\n",
              "    <tr>\n",
              "      <th>2013-10-05</th>\n",
              "      <td>121.33866</td>\n",
              "      <td>1</td>\n",
              "      <td>2</td>\n",
              "    </tr>\n",
              "  </tbody>\n",
              "</table>\n",
              "</div>\n",
              "      <button class=\"colab-df-convert\" onclick=\"convertToInteractive('df-2a77c29b-7b0d-40e4-9acf-a6a5f06505db')\"\n",
              "              title=\"Convert this dataframe to an interactive table.\"\n",
              "              style=\"display:none;\">\n",
              "        \n",
              "  <svg xmlns=\"http://www.w3.org/2000/svg\" height=\"24px\"viewBox=\"0 0 24 24\"\n",
              "       width=\"24px\">\n",
              "    <path d=\"M0 0h24v24H0V0z\" fill=\"none\"/>\n",
              "    <path d=\"M18.56 5.44l.94 2.06.94-2.06 2.06-.94-2.06-.94-.94-2.06-.94 2.06-2.06.94zm-11 1L8.5 8.5l.94-2.06 2.06-.94-2.06-.94L8.5 2.5l-.94 2.06-2.06.94zm10 10l.94 2.06.94-2.06 2.06-.94-2.06-.94-.94-2.06-.94 2.06-2.06.94z\"/><path d=\"M17.41 7.96l-1.37-1.37c-.4-.4-.92-.59-1.43-.59-.52 0-1.04.2-1.43.59L10.3 9.45l-7.72 7.72c-.78.78-.78 2.05 0 2.83L4 21.41c.39.39.9.59 1.41.59.51 0 1.02-.2 1.41-.59l7.78-7.78 2.81-2.81c.8-.78.8-2.07 0-2.86zM5.41 20L4 18.59l7.72-7.72 1.47 1.35L5.41 20z\"/>\n",
              "  </svg>\n",
              "      </button>\n",
              "      \n",
              "  <style>\n",
              "    .colab-df-container {\n",
              "      display:flex;\n",
              "      flex-wrap:wrap;\n",
              "      gap: 12px;\n",
              "    }\n",
              "\n",
              "    .colab-df-convert {\n",
              "      background-color: #E8F0FE;\n",
              "      border: none;\n",
              "      border-radius: 50%;\n",
              "      cursor: pointer;\n",
              "      display: none;\n",
              "      fill: #1967D2;\n",
              "      height: 32px;\n",
              "      padding: 0 0 0 0;\n",
              "      width: 32px;\n",
              "    }\n",
              "\n",
              "    .colab-df-convert:hover {\n",
              "      background-color: #E2EBFA;\n",
              "      box-shadow: 0px 1px 2px rgba(60, 64, 67, 0.3), 0px 1px 3px 1px rgba(60, 64, 67, 0.15);\n",
              "      fill: #174EA6;\n",
              "    }\n",
              "\n",
              "    [theme=dark] .colab-df-convert {\n",
              "      background-color: #3B4455;\n",
              "      fill: #D2E3FC;\n",
              "    }\n",
              "\n",
              "    [theme=dark] .colab-df-convert:hover {\n",
              "      background-color: #434B5C;\n",
              "      box-shadow: 0px 1px 3px 1px rgba(0, 0, 0, 0.15);\n",
              "      filter: drop-shadow(0px 1px 2px rgba(0, 0, 0, 0.3));\n",
              "      fill: #FFFFFF;\n",
              "    }\n",
              "  </style>\n",
              "\n",
              "      <script>\n",
              "        const buttonEl =\n",
              "          document.querySelector('#df-2a77c29b-7b0d-40e4-9acf-a6a5f06505db button.colab-df-convert');\n",
              "        buttonEl.style.display =\n",
              "          google.colab.kernel.accessAllowed ? 'block' : 'none';\n",
              "\n",
              "        async function convertToInteractive(key) {\n",
              "          const element = document.querySelector('#df-2a77c29b-7b0d-40e4-9acf-a6a5f06505db');\n",
              "          const dataTable =\n",
              "            await google.colab.kernel.invokeFunction('convertToInteractive',\n",
              "                                                     [key], {});\n",
              "          if (!dataTable) return;\n",
              "\n",
              "          const docLinkHtml = 'Like what you see? Visit the ' +\n",
              "            '<a target=\"_blank\" href=https://colab.research.google.com/notebooks/data_table.ipynb>data table notebook</a>'\n",
              "            + ' to learn more about interactive tables.';\n",
              "          element.innerHTML = '';\n",
              "          dataTable['output_type'] = 'display_data';\n",
              "          await google.colab.output.renderOutput(dataTable, element);\n",
              "          const docLink = document.createElement('div');\n",
              "          docLink.innerHTML = docLinkHtml;\n",
              "          element.appendChild(docLink);\n",
              "        }\n",
              "      </script>\n",
              "    </div>\n",
              "  </div>\n",
              "  "
            ]
          },
          "metadata": {},
          "execution_count": 8
        }
      ]
    },
    {
      "cell_type": "code",
      "source": [
        "# Add windowed columns\n",
        "for i in range(WINDOW_SIZE): # Shift values for each step in WINDOW_SIZE\n",
        "  df_new[f\"Price+{i+1}\"] = df_new[\"Price\"].shift(periods=i+1)\n",
        "df_new.head()"
      ],
      "metadata": {
        "colab": {
          "base_uri": "https://localhost:8080/",
          "height": 238
        },
        "id": "WX2DNp6Ta8HU",
        "outputId": "20a50662-b1d7-4308-e668-d5c1c06487b3"
      },
      "execution_count": 9,
      "outputs": [
        {
          "output_type": "execute_result",
          "data": {
            "text/plain": [
              "                Price  Multivar1  Multivar2    Price+1    Price+2    Price+3  \\\n",
              "Date                                                                           \n",
              "2013-10-01  123.65499          1          2        NaN        NaN        NaN   \n",
              "2013-10-02  125.45500          1          2  123.65499        NaN        NaN   \n",
              "2013-10-03  108.58483          1          2  125.45500  123.65499        NaN   \n",
              "2013-10-04  118.67466          1          2  108.58483  125.45500  123.65499   \n",
              "2013-10-05  121.33866          1          2  118.67466  108.58483  125.45500   \n",
              "\n",
              "              Price+4  Price+5  Price+6  Price+7  \n",
              "Date                                              \n",
              "2013-10-01        NaN      NaN      NaN      NaN  \n",
              "2013-10-02        NaN      NaN      NaN      NaN  \n",
              "2013-10-03        NaN      NaN      NaN      NaN  \n",
              "2013-10-04        NaN      NaN      NaN      NaN  \n",
              "2013-10-05  123.65499      NaN      NaN      NaN  "
            ],
            "text/html": [
              "\n",
              "  <div id=\"df-a15cd4a5-bce3-439b-a214-c5aac3e86241\">\n",
              "    <div class=\"colab-df-container\">\n",
              "      <div>\n",
              "<style scoped>\n",
              "    .dataframe tbody tr th:only-of-type {\n",
              "        vertical-align: middle;\n",
              "    }\n",
              "\n",
              "    .dataframe tbody tr th {\n",
              "        vertical-align: top;\n",
              "    }\n",
              "\n",
              "    .dataframe thead th {\n",
              "        text-align: right;\n",
              "    }\n",
              "</style>\n",
              "<table border=\"1\" class=\"dataframe\">\n",
              "  <thead>\n",
              "    <tr style=\"text-align: right;\">\n",
              "      <th></th>\n",
              "      <th>Price</th>\n",
              "      <th>Multivar1</th>\n",
              "      <th>Multivar2</th>\n",
              "      <th>Price+1</th>\n",
              "      <th>Price+2</th>\n",
              "      <th>Price+3</th>\n",
              "      <th>Price+4</th>\n",
              "      <th>Price+5</th>\n",
              "      <th>Price+6</th>\n",
              "      <th>Price+7</th>\n",
              "    </tr>\n",
              "    <tr>\n",
              "      <th>Date</th>\n",
              "      <th></th>\n",
              "      <th></th>\n",
              "      <th></th>\n",
              "      <th></th>\n",
              "      <th></th>\n",
              "      <th></th>\n",
              "      <th></th>\n",
              "      <th></th>\n",
              "      <th></th>\n",
              "      <th></th>\n",
              "    </tr>\n",
              "  </thead>\n",
              "  <tbody>\n",
              "    <tr>\n",
              "      <th>2013-10-01</th>\n",
              "      <td>123.65499</td>\n",
              "      <td>1</td>\n",
              "      <td>2</td>\n",
              "      <td>NaN</td>\n",
              "      <td>NaN</td>\n",
              "      <td>NaN</td>\n",
              "      <td>NaN</td>\n",
              "      <td>NaN</td>\n",
              "      <td>NaN</td>\n",
              "      <td>NaN</td>\n",
              "    </tr>\n",
              "    <tr>\n",
              "      <th>2013-10-02</th>\n",
              "      <td>125.45500</td>\n",
              "      <td>1</td>\n",
              "      <td>2</td>\n",
              "      <td>123.65499</td>\n",
              "      <td>NaN</td>\n",
              "      <td>NaN</td>\n",
              "      <td>NaN</td>\n",
              "      <td>NaN</td>\n",
              "      <td>NaN</td>\n",
              "      <td>NaN</td>\n",
              "    </tr>\n",
              "    <tr>\n",
              "      <th>2013-10-03</th>\n",
              "      <td>108.58483</td>\n",
              "      <td>1</td>\n",
              "      <td>2</td>\n",
              "      <td>125.45500</td>\n",
              "      <td>123.65499</td>\n",
              "      <td>NaN</td>\n",
              "      <td>NaN</td>\n",
              "      <td>NaN</td>\n",
              "      <td>NaN</td>\n",
              "      <td>NaN</td>\n",
              "    </tr>\n",
              "    <tr>\n",
              "      <th>2013-10-04</th>\n",
              "      <td>118.67466</td>\n",
              "      <td>1</td>\n",
              "      <td>2</td>\n",
              "      <td>108.58483</td>\n",
              "      <td>125.45500</td>\n",
              "      <td>123.65499</td>\n",
              "      <td>NaN</td>\n",
              "      <td>NaN</td>\n",
              "      <td>NaN</td>\n",
              "      <td>NaN</td>\n",
              "    </tr>\n",
              "    <tr>\n",
              "      <th>2013-10-05</th>\n",
              "      <td>121.33866</td>\n",
              "      <td>1</td>\n",
              "      <td>2</td>\n",
              "      <td>118.67466</td>\n",
              "      <td>108.58483</td>\n",
              "      <td>125.45500</td>\n",
              "      <td>123.65499</td>\n",
              "      <td>NaN</td>\n",
              "      <td>NaN</td>\n",
              "      <td>NaN</td>\n",
              "    </tr>\n",
              "  </tbody>\n",
              "</table>\n",
              "</div>\n",
              "      <button class=\"colab-df-convert\" onclick=\"convertToInteractive('df-a15cd4a5-bce3-439b-a214-c5aac3e86241')\"\n",
              "              title=\"Convert this dataframe to an interactive table.\"\n",
              "              style=\"display:none;\">\n",
              "        \n",
              "  <svg xmlns=\"http://www.w3.org/2000/svg\" height=\"24px\"viewBox=\"0 0 24 24\"\n",
              "       width=\"24px\">\n",
              "    <path d=\"M0 0h24v24H0V0z\" fill=\"none\"/>\n",
              "    <path d=\"M18.56 5.44l.94 2.06.94-2.06 2.06-.94-2.06-.94-.94-2.06-.94 2.06-2.06.94zm-11 1L8.5 8.5l.94-2.06 2.06-.94-2.06-.94L8.5 2.5l-.94 2.06-2.06.94zm10 10l.94 2.06.94-2.06 2.06-.94-2.06-.94-.94-2.06-.94 2.06-2.06.94z\"/><path d=\"M17.41 7.96l-1.37-1.37c-.4-.4-.92-.59-1.43-.59-.52 0-1.04.2-1.43.59L10.3 9.45l-7.72 7.72c-.78.78-.78 2.05 0 2.83L4 21.41c.39.39.9.59 1.41.59.51 0 1.02-.2 1.41-.59l7.78-7.78 2.81-2.81c.8-.78.8-2.07 0-2.86zM5.41 20L4 18.59l7.72-7.72 1.47 1.35L5.41 20z\"/>\n",
              "  </svg>\n",
              "      </button>\n",
              "      \n",
              "  <style>\n",
              "    .colab-df-container {\n",
              "      display:flex;\n",
              "      flex-wrap:wrap;\n",
              "      gap: 12px;\n",
              "    }\n",
              "\n",
              "    .colab-df-convert {\n",
              "      background-color: #E8F0FE;\n",
              "      border: none;\n",
              "      border-radius: 50%;\n",
              "      cursor: pointer;\n",
              "      display: none;\n",
              "      fill: #1967D2;\n",
              "      height: 32px;\n",
              "      padding: 0 0 0 0;\n",
              "      width: 32px;\n",
              "    }\n",
              "\n",
              "    .colab-df-convert:hover {\n",
              "      background-color: #E2EBFA;\n",
              "      box-shadow: 0px 1px 2px rgba(60, 64, 67, 0.3), 0px 1px 3px 1px rgba(60, 64, 67, 0.15);\n",
              "      fill: #174EA6;\n",
              "    }\n",
              "\n",
              "    [theme=dark] .colab-df-convert {\n",
              "      background-color: #3B4455;\n",
              "      fill: #D2E3FC;\n",
              "    }\n",
              "\n",
              "    [theme=dark] .colab-df-convert:hover {\n",
              "      background-color: #434B5C;\n",
              "      box-shadow: 0px 1px 3px 1px rgba(0, 0, 0, 0.15);\n",
              "      filter: drop-shadow(0px 1px 2px rgba(0, 0, 0, 0.3));\n",
              "      fill: #FFFFFF;\n",
              "    }\n",
              "  </style>\n",
              "\n",
              "      <script>\n",
              "        const buttonEl =\n",
              "          document.querySelector('#df-a15cd4a5-bce3-439b-a214-c5aac3e86241 button.colab-df-convert');\n",
              "        buttonEl.style.display =\n",
              "          google.colab.kernel.accessAllowed ? 'block' : 'none';\n",
              "\n",
              "        async function convertToInteractive(key) {\n",
              "          const element = document.querySelector('#df-a15cd4a5-bce3-439b-a214-c5aac3e86241');\n",
              "          const dataTable =\n",
              "            await google.colab.kernel.invokeFunction('convertToInteractive',\n",
              "                                                     [key], {});\n",
              "          if (!dataTable) return;\n",
              "\n",
              "          const docLinkHtml = 'Like what you see? Visit the ' +\n",
              "            '<a target=\"_blank\" href=https://colab.research.google.com/notebooks/data_table.ipynb>data table notebook</a>'\n",
              "            + ' to learn more about interactive tables.';\n",
              "          element.innerHTML = '';\n",
              "          dataTable['output_type'] = 'display_data';\n",
              "          await google.colab.output.renderOutput(dataTable, element);\n",
              "          const docLink = document.createElement('div');\n",
              "          docLink.innerHTML = docLinkHtml;\n",
              "          element.appendChild(docLink);\n",
              "        }\n",
              "      </script>\n",
              "    </div>\n",
              "  </div>\n",
              "  "
            ]
          },
          "metadata": {},
          "execution_count": 9
        }
      ]
    },
    {
      "cell_type": "code",
      "source": [
        "import numpy as np"
      ],
      "metadata": {
        "id": "E6-9ekledTYj"
      },
      "execution_count": 10,
      "outputs": []
    },
    {
      "cell_type": "code",
      "source": [
        "# Let's create X & y, remove the NaN's and convert to float32 to prevent TensorFlow errors \n",
        "X = df_new.dropna().drop(\"Price\", axis=1).astype(np.float32) \n",
        "y = df_new.dropna()[\"Price\"].astype(np.float32)\n",
        "X.head()"
      ],
      "metadata": {
        "colab": {
          "base_uri": "https://localhost:8080/",
          "height": 238
        },
        "id": "yILF22ZLdK4W",
        "outputId": "2f6cdb05-72d4-4b04-8824-6854fda5a93a"
      },
      "execution_count": 11,
      "outputs": [
        {
          "output_type": "execute_result",
          "data": {
            "text/plain": [
              "            Multivar1  Multivar2     Price+1     Price+2     Price+3  \\\n",
              "Date                                                                   \n",
              "2013-10-08        1.0        2.0  121.794998  120.655327  121.338661   \n",
              "2013-10-09        1.0        2.0  123.032997  121.794998  120.655327   \n",
              "2013-10-10        1.0        2.0  124.049004  123.032997  121.794998   \n",
              "2013-10-11        1.0        2.0  125.961159  124.049004  123.032997   \n",
              "2013-10-12        1.0        2.0  125.279663  125.961159  124.049004   \n",
              "\n",
              "               Price+4     Price+5     Price+6     Price+7  \n",
              "Date                                                        \n",
              "2013-10-08  118.674660  108.584831  125.455002  123.654991  \n",
              "2013-10-09  121.338661  118.674660  108.584831  125.455002  \n",
              "2013-10-10  120.655327  121.338661  118.674660  108.584831  \n",
              "2013-10-11  121.794998  120.655327  121.338661  118.674660  \n",
              "2013-10-12  123.032997  121.794998  120.655327  121.338661  "
            ],
            "text/html": [
              "\n",
              "  <div id=\"df-488bff96-0132-4c53-8441-5c98aacc2a3d\">\n",
              "    <div class=\"colab-df-container\">\n",
              "      <div>\n",
              "<style scoped>\n",
              "    .dataframe tbody tr th:only-of-type {\n",
              "        vertical-align: middle;\n",
              "    }\n",
              "\n",
              "    .dataframe tbody tr th {\n",
              "        vertical-align: top;\n",
              "    }\n",
              "\n",
              "    .dataframe thead th {\n",
              "        text-align: right;\n",
              "    }\n",
              "</style>\n",
              "<table border=\"1\" class=\"dataframe\">\n",
              "  <thead>\n",
              "    <tr style=\"text-align: right;\">\n",
              "      <th></th>\n",
              "      <th>Multivar1</th>\n",
              "      <th>Multivar2</th>\n",
              "      <th>Price+1</th>\n",
              "      <th>Price+2</th>\n",
              "      <th>Price+3</th>\n",
              "      <th>Price+4</th>\n",
              "      <th>Price+5</th>\n",
              "      <th>Price+6</th>\n",
              "      <th>Price+7</th>\n",
              "    </tr>\n",
              "    <tr>\n",
              "      <th>Date</th>\n",
              "      <th></th>\n",
              "      <th></th>\n",
              "      <th></th>\n",
              "      <th></th>\n",
              "      <th></th>\n",
              "      <th></th>\n",
              "      <th></th>\n",
              "      <th></th>\n",
              "      <th></th>\n",
              "    </tr>\n",
              "  </thead>\n",
              "  <tbody>\n",
              "    <tr>\n",
              "      <th>2013-10-08</th>\n",
              "      <td>1.0</td>\n",
              "      <td>2.0</td>\n",
              "      <td>121.794998</td>\n",
              "      <td>120.655327</td>\n",
              "      <td>121.338661</td>\n",
              "      <td>118.674660</td>\n",
              "      <td>108.584831</td>\n",
              "      <td>125.455002</td>\n",
              "      <td>123.654991</td>\n",
              "    </tr>\n",
              "    <tr>\n",
              "      <th>2013-10-09</th>\n",
              "      <td>1.0</td>\n",
              "      <td>2.0</td>\n",
              "      <td>123.032997</td>\n",
              "      <td>121.794998</td>\n",
              "      <td>120.655327</td>\n",
              "      <td>121.338661</td>\n",
              "      <td>118.674660</td>\n",
              "      <td>108.584831</td>\n",
              "      <td>125.455002</td>\n",
              "    </tr>\n",
              "    <tr>\n",
              "      <th>2013-10-10</th>\n",
              "      <td>1.0</td>\n",
              "      <td>2.0</td>\n",
              "      <td>124.049004</td>\n",
              "      <td>123.032997</td>\n",
              "      <td>121.794998</td>\n",
              "      <td>120.655327</td>\n",
              "      <td>121.338661</td>\n",
              "      <td>118.674660</td>\n",
              "      <td>108.584831</td>\n",
              "    </tr>\n",
              "    <tr>\n",
              "      <th>2013-10-11</th>\n",
              "      <td>1.0</td>\n",
              "      <td>2.0</td>\n",
              "      <td>125.961159</td>\n",
              "      <td>124.049004</td>\n",
              "      <td>123.032997</td>\n",
              "      <td>121.794998</td>\n",
              "      <td>120.655327</td>\n",
              "      <td>121.338661</td>\n",
              "      <td>118.674660</td>\n",
              "    </tr>\n",
              "    <tr>\n",
              "      <th>2013-10-12</th>\n",
              "      <td>1.0</td>\n",
              "      <td>2.0</td>\n",
              "      <td>125.279663</td>\n",
              "      <td>125.961159</td>\n",
              "      <td>124.049004</td>\n",
              "      <td>123.032997</td>\n",
              "      <td>121.794998</td>\n",
              "      <td>120.655327</td>\n",
              "      <td>121.338661</td>\n",
              "    </tr>\n",
              "  </tbody>\n",
              "</table>\n",
              "</div>\n",
              "      <button class=\"colab-df-convert\" onclick=\"convertToInteractive('df-488bff96-0132-4c53-8441-5c98aacc2a3d')\"\n",
              "              title=\"Convert this dataframe to an interactive table.\"\n",
              "              style=\"display:none;\">\n",
              "        \n",
              "  <svg xmlns=\"http://www.w3.org/2000/svg\" height=\"24px\"viewBox=\"0 0 24 24\"\n",
              "       width=\"24px\">\n",
              "    <path d=\"M0 0h24v24H0V0z\" fill=\"none\"/>\n",
              "    <path d=\"M18.56 5.44l.94 2.06.94-2.06 2.06-.94-2.06-.94-.94-2.06-.94 2.06-2.06.94zm-11 1L8.5 8.5l.94-2.06 2.06-.94-2.06-.94L8.5 2.5l-.94 2.06-2.06.94zm10 10l.94 2.06.94-2.06 2.06-.94-2.06-.94-.94-2.06-.94 2.06-2.06.94z\"/><path d=\"M17.41 7.96l-1.37-1.37c-.4-.4-.92-.59-1.43-.59-.52 0-1.04.2-1.43.59L10.3 9.45l-7.72 7.72c-.78.78-.78 2.05 0 2.83L4 21.41c.39.39.9.59 1.41.59.51 0 1.02-.2 1.41-.59l7.78-7.78 2.81-2.81c.8-.78.8-2.07 0-2.86zM5.41 20L4 18.59l7.72-7.72 1.47 1.35L5.41 20z\"/>\n",
              "  </svg>\n",
              "      </button>\n",
              "      \n",
              "  <style>\n",
              "    .colab-df-container {\n",
              "      display:flex;\n",
              "      flex-wrap:wrap;\n",
              "      gap: 12px;\n",
              "    }\n",
              "\n",
              "    .colab-df-convert {\n",
              "      background-color: #E8F0FE;\n",
              "      border: none;\n",
              "      border-radius: 50%;\n",
              "      cursor: pointer;\n",
              "      display: none;\n",
              "      fill: #1967D2;\n",
              "      height: 32px;\n",
              "      padding: 0 0 0 0;\n",
              "      width: 32px;\n",
              "    }\n",
              "\n",
              "    .colab-df-convert:hover {\n",
              "      background-color: #E2EBFA;\n",
              "      box-shadow: 0px 1px 2px rgba(60, 64, 67, 0.3), 0px 1px 3px 1px rgba(60, 64, 67, 0.15);\n",
              "      fill: #174EA6;\n",
              "    }\n",
              "\n",
              "    [theme=dark] .colab-df-convert {\n",
              "      background-color: #3B4455;\n",
              "      fill: #D2E3FC;\n",
              "    }\n",
              "\n",
              "    [theme=dark] .colab-df-convert:hover {\n",
              "      background-color: #434B5C;\n",
              "      box-shadow: 0px 1px 3px 1px rgba(0, 0, 0, 0.15);\n",
              "      filter: drop-shadow(0px 1px 2px rgba(0, 0, 0, 0.3));\n",
              "      fill: #FFFFFF;\n",
              "    }\n",
              "  </style>\n",
              "\n",
              "      <script>\n",
              "        const buttonEl =\n",
              "          document.querySelector('#df-488bff96-0132-4c53-8441-5c98aacc2a3d button.colab-df-convert');\n",
              "        buttonEl.style.display =\n",
              "          google.colab.kernel.accessAllowed ? 'block' : 'none';\n",
              "\n",
              "        async function convertToInteractive(key) {\n",
              "          const element = document.querySelector('#df-488bff96-0132-4c53-8441-5c98aacc2a3d');\n",
              "          const dataTable =\n",
              "            await google.colab.kernel.invokeFunction('convertToInteractive',\n",
              "                                                     [key], {});\n",
              "          if (!dataTable) return;\n",
              "\n",
              "          const docLinkHtml = 'Like what you see? Visit the ' +\n",
              "            '<a target=\"_blank\" href=https://colab.research.google.com/notebooks/data_table.ipynb>data table notebook</a>'\n",
              "            + ' to learn more about interactive tables.';\n",
              "          element.innerHTML = '';\n",
              "          dataTable['output_type'] = 'display_data';\n",
              "          await google.colab.output.renderOutput(dataTable, element);\n",
              "          const docLink = document.createElement('div');\n",
              "          docLink.innerHTML = docLinkHtml;\n",
              "          element.appendChild(docLink);\n",
              "        }\n",
              "      </script>\n",
              "    </div>\n",
              "  </div>\n",
              "  "
            ]
          },
          "metadata": {},
          "execution_count": 11
        }
      ]
    },
    {
      "cell_type": "code",
      "source": [
        "y.head()"
      ],
      "metadata": {
        "colab": {
          "base_uri": "https://localhost:8080/"
        },
        "id": "JzDLrs6udZ6i",
        "outputId": "1a21d43c-00f1-4eed-d4f7-cd09e04ca3ab"
      },
      "execution_count": 12,
      "outputs": [
        {
          "output_type": "execute_result",
          "data": {
            "text/plain": [
              "Date\n",
              "2013-10-08    123.032997\n",
              "2013-10-09    124.049004\n",
              "2013-10-10    125.961159\n",
              "2013-10-11    125.279663\n",
              "2013-10-12    125.927498\n",
              "Name: Price, dtype: float32"
            ]
          },
          "metadata": {},
          "execution_count": 12
        }
      ]
    },
    {
      "cell_type": "code",
      "source": [
        "# Make train and test sets if needed\n",
        "SPLIT_RATIO = 0.8\n",
        "split_size = int(len(X) * SPLIT_RATIO)\n",
        "X_train, y_train = X[:split_size], y[:split_size]\n",
        "X_test, y_test = X[split_size:], y[split_size:]\n",
        "len(X_train), len(y_train), len(X_test), len(y_test)"
      ],
      "metadata": {
        "colab": {
          "base_uri": "https://localhost:8080/"
        },
        "id": "MbZXXQmcdr4T",
        "outputId": "d436c095-c3a6-4910-90a5-9b2203df909e"
      },
      "execution_count": 13,
      "outputs": [
        {
          "output_type": "execute_result",
          "data": {
            "text/plain": [
              "(2224, 2224, 556, 556)"
            ]
          },
          "metadata": {},
          "execution_count": 13
        }
      ]
    },
    {
      "cell_type": "markdown",
      "source": [
        "## Project Models"
      ],
      "metadata": {
        "id": "yfNyIbNY7ucb"
      }
    },
    {
      "cell_type": "markdown",
      "source": [
        "### Project Model 1: LSTM (Window=7,Horizon=1)"
      ],
      "metadata": {
        "id": "UL5oBPhK8L4B"
      }
    },
    {
      "cell_type": "code",
      "source": [
        "# Helper function to save a model\n",
        "\n",
        "from re import VERBOSE\n",
        "import os\n",
        "\n",
        "# function to implement a ModelCheckpoint callback with a specific filename\n",
        "def create_model_checkpoint(model_name, save_path=\"model_experiments\"):\n",
        "  return tf.keras.callbacks.ModelCheckpoint(filepath=os.path.join(save_path, model_name),\n",
        "                                            monitor='val_loss',\n",
        "                                            verbose=0,\n",
        "                                            save_best_only=True)"
      ],
      "metadata": {
        "id": "WnSh5jUT9mZ4"
      },
      "execution_count": 14,
      "outputs": []
    },
    {
      "cell_type": "code",
      "source": [
        "import tensorflow as tf\n",
        "import numpy as np\n",
        "\n",
        "from tensorflow.keras import layers"
      ],
      "metadata": {
        "id": "mH-pxXoze7MK"
      },
      "execution_count": 15,
      "outputs": []
    },
    {
      "cell_type": "code",
      "source": [
        "# random\n",
        "tf.random.set_seed(42)\n",
        "\n",
        "# Model (this is a functional API)\n",
        "inputs = layers.Input(shape=(WINDOW_SIZE+EXTRA_FEATURES))         \n",
        "x = layers.Lambda(lambda x: tf.expand_dims(x, axis=1))(inputs)   # expand input dimension to comply with tf requirements\n",
        "x = layers.LSTM(128, activation='relu')(x)                       # default activation is tanh\n",
        "# x = layers.Dense(32, activation='relu')(x)                     # Add Dense layer here for more complex model\n",
        "output = layers.Dense(HORIZON)(x)                                # typically HORIZON==1 for daily price prediction\n",
        "proj_m1 = tf.keras.Model(inputs=inputs, outputs=output, name='proj_m1_LSTM')\n",
        "\n",
        "# Compile\n",
        "proj_m1.compile(loss='mae',\n",
        "                optimizer=tf.keras.optimizers.Adam(learning_rate = 0.001),\n",
        "                metrics=['mae','mse'])\n",
        "\n",
        "# Fit\n",
        "proj_m1.fit(X_train,\n",
        "            y_train,\n",
        "            epochs=100,\n",
        "            verbose=0,\n",
        "            batch_size=128,\n",
        "            validation_data=(X_test, y_test),\n",
        "            callbacks=[create_model_checkpoint(model_name=proj_m1.name)])"
      ],
      "metadata": {
        "colab": {
          "base_uri": "https://localhost:8080/"
        },
        "id": "JtnQJHge7_ZL",
        "outputId": "bbd71541-a143-4606-f409-650cbc4c33d2"
      },
      "execution_count": 17,
      "outputs": [
        {
          "output_type": "stream",
          "name": "stderr",
          "text": [
            "WARNING:tensorflow:Layer lstm_1 will not use cuDNN kernels since it doesn't meet the criteria. It will use a generic GPU kernel as fallback when running on GPU.\n"
          ]
        },
        {
          "output_type": "execute_result",
          "data": {
            "text/plain": [
              "<keras.callbacks.History at 0x7f3fb6055c70>"
            ]
          },
          "metadata": {},
          "execution_count": 17
        }
      ]
    },
    {
      "cell_type": "code",
      "source": [
        "proj_m1.summary()"
      ],
      "metadata": {
        "colab": {
          "base_uri": "https://localhost:8080/"
        },
        "id": "sMGYc0bCHOA5",
        "outputId": "1fe27201-0de6-46c4-ff5b-07420527ce2e"
      },
      "execution_count": 18,
      "outputs": [
        {
          "output_type": "stream",
          "name": "stdout",
          "text": [
            "Model: \"proj_m1_LSTM\"\n",
            "_________________________________________________________________\n",
            " Layer (type)                Output Shape              Param #   \n",
            "=================================================================\n",
            " input_2 (InputLayer)        [(None, 9)]               0         \n",
            "                                                                 \n",
            " lambda_1 (Lambda)           (None, 1, 9)              0         \n",
            "                                                                 \n",
            " lstm_1 (LSTM)               (None, 128)               70656     \n",
            "                                                                 \n",
            " dense_1 (Dense)             (None, 1)                 129       \n",
            "                                                                 \n",
            "=================================================================\n",
            "Total params: 70,785\n",
            "Trainable params: 70,785\n",
            "Non-trainable params: 0\n",
            "_________________________________________________________________\n"
          ]
        }
      ]
    },
    {
      "cell_type": "markdown",
      "source": [
        "###### Model Evaluation\n",
        "* ref: sktime's mase_loss()\n",
        "* ref: 5.8 Evaluating point forecast accuracy"
      ],
      "metadata": {
        "id": "_W0qazN0FtyI"
      }
    },
    {
      "cell_type": "code",
      "source": [
        "# MASE implementation\n",
        "def mean_absolute_scaled_error(y_true, y_pred):\n",
        "  \"\"\"\n",
        "  Implement MASE (assuming no seasonality of data).\n",
        "  \"\"\"\n",
        "  mae = tf.reduce_mean(tf.abs(y_true-y_pred))\n",
        "\n",
        "  # MAE of naive forecast (no seasonality)\n",
        "  mae_naive_no_season = tf.reduce_mean(tf.abs(y_true[1:] - y_true[:-1]))\n",
        "  \n",
        "  return mae / mae_naive_no_season"
      ],
      "metadata": {
        "id": "qWBs9STbFqK_"
      },
      "execution_count": 19,
      "outputs": []
    },
    {
      "cell_type": "code",
      "source": [
        "# function to return model evaluation metrics\n",
        "def evaluate_preds(y_true, y_pred):\n",
        "  '''\n",
        "  input:  y_true, y_pred, true and predicted value from our model\n",
        "  output: dictionary of evaluation metrics {mae,mse,rms,mape,mase}\n",
        "  '''\n",
        "\n",
        "  # make sure float32 datatype (for metric calculation) to comply with tensorflow requirements, note numpy use float64\n",
        "  y_true = tf.cast(y_true, dtype=tf.float32)\n",
        "  y_pred = tf.cast(y_pred, dtype=tf.float32)\n",
        "\n",
        "  # calculate the metrics\n",
        "  mae = tf.keras.metrics.mean_absolute_error(y_true, y_pred)\n",
        "  mse = tf.keras.metrics.mean_squared_error(y_true, y_pred)\n",
        "  rmse = tf.sqrt(mse)\n",
        "  mape = tf.keras.metrics.mean_absolute_percentage_error(y_true, y_pred)\n",
        "  mase = mean_absolute_scaled_error(y_true, y_pred)\n",
        "\n",
        "  # reduce outputs to single values if HORIZON is greater than 1\n",
        "  if mae.ndim > 0:\n",
        "    mae = tf.reduce_mean(mae)\n",
        "    mse = tf.reduce_mean(mse)\n",
        "    rmse = tf.reduce_mean(rmse)\n",
        "    mape = tf.reduce_mean(mape)\n",
        "    mase = tf.reduce_mean(mase)\n",
        "\n",
        "  return {'mae': mae.numpy(),\n",
        "          'mse': mse.numpy(),\n",
        "          'rmse': rmse.numpy(),\n",
        "          'mape': mape.numpy(),\n",
        "          'mase': mase.numpy()}"
      ],
      "metadata": {
        "id": "-4oEJYSMFpzf"
      },
      "execution_count": 20,
      "outputs": []
    },
    {
      "cell_type": "code",
      "source": [
        "# Evaluate on test data\n",
        "proj_m1.evaluate(X_test, y_test)"
      ],
      "metadata": {
        "colab": {
          "base_uri": "https://localhost:8080/"
        },
        "id": "brRKcyWRGwtI",
        "outputId": "5f2efff6-be47-4de7-f9d8-7a0cce4d0118"
      },
      "execution_count": 21,
      "outputs": [
        {
          "output_type": "stream",
          "name": "stdout",
          "text": [
            "18/18 [==============================] - 0s 3ms/step - loss: 597.4324 - mae: 597.4324 - mse: 1251150.5000\n"
          ]
        },
        {
          "output_type": "execute_result",
          "data": {
            "text/plain": [
              "[597.432373046875, 597.432373046875, 1251150.5]"
            ]
          },
          "metadata": {},
          "execution_count": 21
        }
      ]
    },
    {
      "cell_type": "code",
      "source": [
        "# Use the saved best performing model_1 and evaluate it on test data\n",
        "proj_m1=tf.keras.models.load_model('/content/model_experiments/proj_m1_LSTM')\n",
        "proj_m1.evaluate(X_test, y_test)"
      ],
      "metadata": {
        "colab": {
          "base_uri": "https://localhost:8080/"
        },
        "id": "rXhvxRMWICpB",
        "outputId": "4c7f4737-4644-4f37-9509-c1c7ae5a72dd"
      },
      "execution_count": 22,
      "outputs": [
        {
          "output_type": "stream",
          "name": "stderr",
          "text": [
            "WARNING:tensorflow:Layer lstm_1 will not use cuDNN kernels since it doesn't meet the criteria. It will use a generic GPU kernel as fallback when running on GPU.\n"
          ]
        },
        {
          "output_type": "stream",
          "name": "stdout",
          "text": [
            "18/18 [==============================] - 0s 2ms/step - loss: 581.1559 - mae: 581.1559 - mse: 1217954.1250\n"
          ]
        },
        {
          "output_type": "execute_result",
          "data": {
            "text/plain": [
              "[581.1558837890625, 581.1558837890625, 1217954.125]"
            ]
          },
          "metadata": {},
          "execution_count": 22
        }
      ]
    },
    {
      "cell_type": "markdown",
      "source": [
        "###### Make function to forecasts on the test dataset\n",
        "1.  Take in a trained model\n",
        "2.  Take in some test data\n",
        "3.  Use model.predict() to predict\n",
        "4.  Return the predictions"
      ],
      "metadata": {
        "id": "HgPzZHp3Iu13"
      }
    },
    {
      "cell_type": "code",
      "source": [
        "def make_preds(model, input_data):\n",
        "  '''\n",
        "  Input: \n",
        "         model, trained model\n",
        "         input_data: test_data in the same format as training_data\n",
        "  return: prediction\n",
        "  '''\n",
        "  forecast = model.predict(input_data)\n",
        "  return tf.squeeze(forecast)  # return 1D array of prediction"
      ],
      "metadata": {
        "id": "MJwRuXPWIue_"
      },
      "execution_count": 23,
      "outputs": []
    },
    {
      "cell_type": "code",
      "source": [
        "# Make predictions using model_1\n",
        "proj_m1_preds = make_preds(proj_m1, X_test)"
      ],
      "metadata": {
        "colab": {
          "base_uri": "https://localhost:8080/"
        },
        "id": "y3d-GKr6JZ8Q",
        "outputId": "9e56c8c8-78ef-4cfc-fb3c-ac18465ef2e7"
      },
      "execution_count": 24,
      "outputs": [
        {
          "output_type": "stream",
          "name": "stdout",
          "text": [
            "18/18 [==============================] - 0s 2ms/step\n"
          ]
        }
      ]
    },
    {
      "cell_type": "code",
      "source": [
        "# Evaluate preds\n",
        "proj_m1_results = evaluate_preds(y_true=y_test,\n",
        "                                 y_pred=proj_m1_preds)\n",
        "proj_m1_results"
      ],
      "metadata": {
        "colab": {
          "base_uri": "https://localhost:8080/"
        },
        "id": "hX6JUxRGJ3fA",
        "outputId": "d69072d7-43a0-482e-b31c-ee8768c319f3"
      },
      "execution_count": 25,
      "outputs": [
        {
          "output_type": "execute_result",
          "data": {
            "text/plain": [
              "{'mae': 581.1559,\n",
              " 'mse': 1217954.1,\n",
              " 'rmse': 1103.6096,\n",
              " 'mape': 2.6226254,\n",
              " 'mase': 1.0209299}"
            ]
          },
          "metadata": {},
          "execution_count": 25
        }
      ]
    },
    {
      "cell_type": "code",
      "source": [
        "# Helper plot function\n",
        "\n",
        "# Create a function to plot time series data\n",
        "def plot_time_series(timesteps, values, format='.', start=0, end=None, label=None):\n",
        "  \"\"\"\n",
        "  Plots a timesteps (a series of points in time) against values (a series of values across timesteps).\n",
        "  \n",
        "  Parameters\n",
        "  ---------\n",
        "  timesteps : array of timesteps\n",
        "  values : array of values across time\n",
        "  format : style of plot, default \".\"\n",
        "  start : where to start the plot (setting a value will index from start of timesteps & values)\n",
        "  end : where to end the plot (setting a value will index from end of timesteps & values)\n",
        "  label : label to show on plot of values\n",
        "  \"\"\"\n",
        "  # Plot the series\n",
        "  plt.plot(timesteps[start:end], values[start:end], format, label=label)\n",
        "  plt.xlabel(\"Time\")\n",
        "  plt.ylabel(\"Stock Price\")\n",
        "  if label:\n",
        "    plt.legend(fontsize=14) # make label bigger\n",
        "  plt.grid(True)"
      ],
      "metadata": {
        "id": "6nnKEb9Z2AD2"
      },
      "execution_count": 28,
      "outputs": []
    },
    {
      "cell_type": "code",
      "source": [
        "import matplotlib.pyplot as plt\n",
        "\n",
        "# Try out our plotting function\n",
        "#DEBUG plt.figure(figsize=(10, 7))\n",
        "#DEBUG plot_time_series(timesteps=y_train.index.to_numpy(), values=y_train, label=\"Train data\")\n",
        "#DEBUG plot_time_series(timesteps=y_test.index.to_numpy(), values=y_test, label=\"Test data\")"
      ],
      "metadata": {
        "id": "foQQ6YQn2Git"
      },
      "execution_count": 29,
      "outputs": []
    },
    {
      "cell_type": "code",
      "source": [
        "# VISUAL\n",
        "\n",
        "offset = 300\n",
        "plt.figure(figsize=(10,7))\n",
        "\n",
        "plot_time_series(timesteps=y_test.index.to_numpy(),\n",
        "                 values=y_test,\n",
        "                 start=offset,\n",
        "                 label='Test Data')\n",
        "plot_time_series(timesteps=y_test.index.to_numpy(),\n",
        "                 values=proj_m1_preds,\n",
        "                 start=offset,\n",
        "                 format='-',\n",
        "                 label='proj LSTM Predictions')"
      ],
      "metadata": {
        "colab": {
          "base_uri": "https://localhost:8080/",
          "height": 442
        },
        "id": "HIFeIoME2hwv",
        "outputId": "3ee92719-f426-47c4-a8e0-6b21f3c59616"
      },
      "execution_count": 31,
      "outputs": [
        {
          "output_type": "display_data",
          "data": {
            "text/plain": [
              "<Figure size 720x504 with 1 Axes>"
            ],
            "image/png": "[encoded data removed]"
          },
          "metadata": {
            "needs_background": "light"
          }
        }
      ]
    },
    {
      "cell_type": "markdown",
      "source": [
        "### Project Model2: Stack LSTM"
      ],
      "metadata": {
        "id": "nHEq0Pizriow"
      }
    },
    {
      "cell_type": "code",
      "source": [
        "# random\n",
        "tf.random.set_seed(42)\n",
        "\n",
        "# Model (this is a functional API)\n",
        "inputs = layers.Input(shape=(WINDOW_SIZE+EXTRA_FEATURES))         \n",
        "x = layers.Lambda(lambda x: tf.expand_dims(x, axis=1))(inputs)   # expand input dimension to comply with tf requirements\n",
        "x = layers.LSTM(128, return_sequences=True)(x)                   # use this layer if we want to stack the layers by routing the output to the next input\n",
        "x = layers.LSTM(128, activation='relu')(x)                       # default activation is tanh\n",
        "# x = layers.Dense(32, activation='relu')(x)                     # Add Dense layer here for more complex model\n",
        "output = layers.Dense(HORIZON)(x)                                # typically HORIZON==1 for daily price prediction\n",
        "proj_m2 = tf.keras.Model(inputs=inputs, outputs=output, name='proj_m2_stackLSTM')\n",
        "\n",
        "# Compile\n",
        "proj_m2.compile(loss='mae',\n",
        "                optimizer=tf.keras.optimizers.Adam(learning_rate = 0.001),\n",
        "                metrics=['mae','mse'])\n",
        "\n",
        "# Fit\n",
        "proj_m2.fit(X_train,\n",
        "            y_train,\n",
        "            epochs=10,\n",
        "            verbose=0,\n",
        "            batch_size=128,\n",
        "            validation_data=(X_test, y_test),\n",
        "            callbacks=[create_model_checkpoint(model_name=proj_m2.name)])"
      ],
      "metadata": {
        "colab": {
          "base_uri": "https://localhost:8080/"
        },
        "id": "BfYSx0CMriM4",
        "outputId": "fb972b5f-f6df-474d-bfbb-088192ef84fa"
      },
      "execution_count": 32,
      "outputs": [
        {
          "output_type": "stream",
          "name": "stderr",
          "text": [
            "WARNING:tensorflow:Layer lstm_3 will not use cuDNN kernels since it doesn't meet the criteria. It will use a generic GPU kernel as fallback when running on GPU.\n",
            "WARNING:absl:Found untraced functions such as lstm_cell_3_layer_call_fn, lstm_cell_3_layer_call_and_return_conditional_losses while saving (showing 2 of 2). These functions will not be directly callable after loading.\n",
            "WARNING:absl:Found untraced functions such as lstm_cell_3_layer_call_fn, lstm_cell_3_layer_call_and_return_conditional_losses while saving (showing 2 of 2). These functions will not be directly callable after loading.\n",
            "WARNING:absl:Found untraced functions such as lstm_cell_3_layer_call_fn, lstm_cell_3_layer_call_and_return_conditional_losses while saving (showing 2 of 2). These functions will not be directly callable after loading.\n",
            "WARNING:absl:Found untraced functions such as lstm_cell_3_layer_call_fn, lstm_cell_3_layer_call_and_return_conditional_losses while saving (showing 2 of 2). These functions will not be directly callable after loading.\n",
            "WARNING:absl:Found untraced functions such as lstm_cell_3_layer_call_fn, lstm_cell_3_layer_call_and_return_conditional_losses while saving (showing 2 of 2). These functions will not be directly callable after loading.\n",
            "WARNING:absl:Found untraced functions such as lstm_cell_3_layer_call_fn, lstm_cell_3_layer_call_and_return_conditional_losses while saving (showing 2 of 2). These functions will not be directly callable after loading.\n",
            "WARNING:absl:Found untraced functions such as lstm_cell_3_layer_call_fn, lstm_cell_3_layer_call_and_return_conditional_losses while saving (showing 2 of 2). These functions will not be directly callable after loading.\n",
            "WARNING:absl:Found untraced functions such as lstm_cell_3_layer_call_fn, lstm_cell_3_layer_call_and_return_conditional_losses while saving (showing 2 of 2). These functions will not be directly callable after loading.\n",
            "WARNING:absl:Found untraced functions such as lstm_cell_3_layer_call_fn, lstm_cell_3_layer_call_and_return_conditional_losses while saving (showing 2 of 2). These functions will not be directly callable after loading.\n",
            "WARNING:absl:Found untraced functions such as lstm_cell_3_layer_call_fn, lstm_cell_3_layer_call_and_return_conditional_losses while saving (showing 2 of 2). These functions will not be directly callable after loading.\n"
          ]
        },
        {
          "output_type": "execute_result",
          "data": {
            "text/plain": [
              "<keras.callbacks.History at 0x7f3fb65c16a0>"
            ]
          },
          "metadata": {},
          "execution_count": 32
        }
      ]
    },
    {
      "cell_type": "code",
      "source": [
        "proj_m2.summary()"
      ],
      "metadata": {
        "colab": {
          "base_uri": "https://localhost:8080/"
        },
        "id": "jLqjTKtRr11x",
        "outputId": "444de47b-0992-47e2-b98e-6afbad95cfdd"
      },
      "execution_count": 33,
      "outputs": [
        {
          "output_type": "stream",
          "name": "stdout",
          "text": [
            "Model: \"proj_m2_stackLSTM\"\n",
            "_________________________________________________________________\n",
            " Layer (type)                Output Shape              Param #   \n",
            "=================================================================\n",
            " input_3 (InputLayer)        [(None, 9)]               0         \n",
            "                                                                 \n",
            " lambda_2 (Lambda)           (None, 1, 9)              0         \n",
            "                                                                 \n",
            " lstm_2 (LSTM)               (None, 1, 128)            70656     \n",
            "                                                                 \n",
            " lstm_3 (LSTM)               (None, 128)               131584    \n",
            "                                                                 \n",
            " dense_2 (Dense)             (None, 1)                 129       \n",
            "                                                                 \n",
            "=================================================================\n",
            "Total params: 202,369\n",
            "Trainable params: 202,369\n",
            "Non-trainable params: 0\n",
            "_________________________________________________________________\n"
          ]
        }
      ]
    },
    {
      "cell_type": "code",
      "source": [
        "# Evaluate with Test data\n",
        "proj_m2.evaluate(X_test, y_test)"
      ],
      "metadata": {
        "colab": {
          "base_uri": "https://localhost:8080/"
        },
        "id": "Ay9NfuqXuMMh",
        "outputId": "62bd6b6a-7ca9-45f8-e50c-5537f7690445"
      },
      "execution_count": 34,
      "outputs": [
        {
          "output_type": "stream",
          "name": "stdout",
          "text": [
            "18/18 [==============================] - 0s 8ms/step - loss: 19865.9570 - mae: 19865.9570 - mse: 701852928.0000\n"
          ]
        },
        {
          "output_type": "execute_result",
          "data": {
            "text/plain": [
              "[19865.95703125, 19865.95703125, 701852928.0]"
            ]
          },
          "metadata": {},
          "execution_count": 34
        }
      ]
    },
    {
      "cell_type": "code",
      "source": [
        "# Use saved best performing model to evaluate test data\n",
        "proj_m2=tf.keras.models.load_model('/content/model_experiments/proj_m2_stackLSTM')\n",
        "proj_m2.evaluate(X_test, y_test)"
      ],
      "metadata": {
        "colab": {
          "base_uri": "https://localhost:8080/"
        },
        "id": "HeZp60_Ir1qh",
        "outputId": "8c36a494-4559-44b9-832a-a77e8671e553"
      },
      "execution_count": 35,
      "outputs": [
        {
          "output_type": "stream",
          "name": "stderr",
          "text": [
            "WARNING:tensorflow:Layer lstm_3 will not use cuDNN kernels since it doesn't meet the criteria. It will use a generic GPU kernel as fallback when running on GPU.\n"
          ]
        },
        {
          "output_type": "stream",
          "name": "stdout",
          "text": [
            "18/18 [==============================] - 1s 3ms/step - loss: 19865.9570 - mae: 19865.9570 - mse: 701852928.0000\n"
          ]
        },
        {
          "output_type": "execute_result",
          "data": {
            "text/plain": [
              "[19865.95703125, 19865.95703125, 701852928.0]"
            ]
          },
          "metadata": {},
          "execution_count": 35
        }
      ]
    },
    {
      "cell_type": "code",
      "source": [
        "# Predictions on Test data\n",
        "proj_m2_preds = make_preds(proj_m2, X_test)"
      ],
      "metadata": {
        "colab": {
          "base_uri": "https://localhost:8080/"
        },
        "id": "baZC7itGu27R",
        "outputId": "8636c91f-da94-4b75-fa5b-9a1b374891ad"
      },
      "execution_count": 36,
      "outputs": [
        {
          "output_type": "stream",
          "name": "stdout",
          "text": [
            "18/18 [==============================] - 0s 2ms/step\n"
          ]
        }
      ]
    },
    {
      "cell_type": "code",
      "source": [
        "# Evaluate predictions\n",
        "proj_m2_results = evaluate_preds(y_true=y_test,\n",
        "                                 y_pred=proj_m2_preds)\n",
        "proj_m2_results"
      ],
      "metadata": {
        "colab": {
          "base_uri": "https://localhost:8080/"
        },
        "id": "Zv-Nys0ivLCh",
        "outputId": "37a13911-6633-4a2f-89b1-9c9b11dc1326"
      },
      "execution_count": 37,
      "outputs": [
        {
          "output_type": "execute_result",
          "data": {
            "text/plain": [
              "{'mae': 19865.957,\n",
              " 'mse': 701852900.0,\n",
              " 'rmse': 26492.508,\n",
              " 'mape': 98.067406,\n",
              " 'mase': 34.898983}"
            ]
          },
          "metadata": {},
          "execution_count": 37
        }
      ]
    },
    {
      "cell_type": "code",
      "source": [
        "# VISUAL\n",
        "offset = 300\n",
        "plt.figure(figsize=(10,7))\n",
        "\n",
        "plot_time_series(timesteps=y_test.index.to_numpy(),\n",
        "                 values=y_test,\n",
        "                 start=offset,\n",
        "                 label='Test Data')\n",
        "plot_time_series(timesteps=y_test.index.to_numpy(),\n",
        "                 values=proj_m2_preds,\n",
        "                 start=offset,\n",
        "                 format='-',\n",
        "                 label='proj stack LSTM Predictions')"
      ],
      "metadata": {
        "colab": {
          "base_uri": "https://localhost:8080/",
          "height": 442
        },
        "id": "4A-fdQnA4KOc",
        "outputId": "f0a47d72-503b-4ab4-f323-8f0734c4dcec"
      },
      "execution_count": 38,
      "outputs": [
        {
          "output_type": "display_data",
          "data": {
            "text/plain": [
              "<Figure size 720x504 with 1 Axes>"
            ],
            "image/png": "[encoded data removed]"
          },
          "metadata": {
            "needs_background": "light"
          }
        }
      ]
    },
    {
      "cell_type": "markdown",
      "source": [
        "### Project Model3: BiLSTM"
      ],
      "metadata": {
        "id": "sUvuupi7v2s8"
      }
    },
    {
      "cell_type": "code",
      "source": [
        "from tensorflow.keras.layers import LSTM"
      ],
      "metadata": {
        "id": "gtsEUSk4xx5_"
      },
      "execution_count": 40,
      "outputs": []
    },
    {
      "cell_type": "code",
      "source": [
        "# random\n",
        "tf.random.set_seed(42)\n",
        "\n",
        "# Model (this is a functional API)\n",
        "inputs = layers.Input(shape=(WINDOW_SIZE+EXTRA_FEATURES))         \n",
        "x = layers.Lambda(lambda x: tf.expand_dims(x, axis=1))(inputs)   # expand input dimension to comply with tf requirements\n",
        "\n",
        "x = layers.Bidirectional(LSTM(128, activation='relu'))(x)        # default activation is tanh\n",
        "# x = layers.Dense(32, activation='relu')(x)                     # Add Dense layer here for more complex model\n",
        "output = layers.Dense(HORIZON)(x)                                # typically HORIZON==1 for daily price prediction\n",
        "proj_m3 = tf.keras.Model(inputs=inputs, outputs=output, name='proj_m3_BiLSTM')\n",
        "\n",
        "# Compile\n",
        "proj_m3.compile(loss='mae',\n",
        "                optimizer=tf.keras.optimizers.Adam(learning_rate = 0.001),\n",
        "                metrics=['mae','mse'])\n",
        "\n",
        "# Fit\n",
        "proj_m3.fit(X_train,\n",
        "            y_train,\n",
        "            epochs=100,\n",
        "            verbose=0,\n",
        "            batch_size=128,\n",
        "            validation_data=(X_test, y_test),\n",
        "            callbacks=[create_model_checkpoint(model_name=proj_m3.name)])"
      ],
      "metadata": {
        "colab": {
          "base_uri": "https://localhost:8080/"
        },
        "id": "maar9IY3vK4p",
        "outputId": "7a5a3377-fefd-47f0-8e12-cf4789e3428c"
      },
      "execution_count": 41,
      "outputs": [
        {
          "output_type": "stream",
          "name": "stderr",
          "text": [
            "WARNING:tensorflow:Layer lstm_4 will not use cuDNN kernels since it doesn't meet the criteria. It will use a generic GPU kernel as fallback when running on GPU.\n",
            "WARNING:tensorflow:Layer lstm_4 will not use cuDNN kernels since it doesn't meet the criteria. It will use a generic GPU kernel as fallback when running on GPU.\n",
            "WARNING:tensorflow:Layer lstm_4 will not use cuDNN kernels since it doesn't meet the criteria. It will use a generic GPU kernel as fallback when running on GPU.\n"
          ]
        },
        {
          "output_type": "execute_result",
          "data": {
            "text/plain": [
              "<keras.callbacks.History at 0x7f3fd02e19d0>"
            ]
          },
          "metadata": {},
          "execution_count": 41
        }
      ]
    },
    {
      "cell_type": "code",
      "source": [
        "proj_m3.summary()"
      ],
      "metadata": {
        "colab": {
          "base_uri": "https://localhost:8080/"
        },
        "id": "Wh28hRs7ywOD",
        "outputId": "da6625d6-da30-456b-eb14-1bf93fa6e301"
      },
      "execution_count": 42,
      "outputs": [
        {
          "output_type": "stream",
          "name": "stdout",
          "text": [
            "Model: \"proj_m3_BiLSTM\"\n",
            "_________________________________________________________________\n",
            " Layer (type)                Output Shape              Param #   \n",
            "=================================================================\n",
            " input_5 (InputLayer)        [(None, 9)]               0         \n",
            "                                                                 \n",
            " lambda_4 (Lambda)           (None, 1, 9)              0         \n",
            "                                                                 \n",
            " bidirectional (Bidirectiona  (None, 256)              141312    \n",
            " l)                                                              \n",
            "                                                                 \n",
            " dense_3 (Dense)             (None, 1)                 257       \n",
            "                                                                 \n",
            "=================================================================\n",
            "Total params: 141,569\n",
            "Trainable params: 141,569\n",
            "Non-trainable params: 0\n",
            "_________________________________________________________________\n"
          ]
        }
      ]
    },
    {
      "cell_type": "code",
      "source": [
        "# Evaluate on Test data\n",
        "proj_m3.evaluate(X_test, y_test)"
      ],
      "metadata": {
        "colab": {
          "base_uri": "https://localhost:8080/"
        },
        "id": "NunL_po3vsHy",
        "outputId": "6239e782-247e-4783-e0ee-86fa75f38c67"
      },
      "execution_count": 43,
      "outputs": [
        {
          "output_type": "stream",
          "name": "stdout",
          "text": [
            "18/18 [==============================] - 0s 3ms/step - loss: 582.4898 - mae: 582.4898 - mse: 1217115.1250\n"
          ]
        },
        {
          "output_type": "execute_result",
          "data": {
            "text/plain": [
              "[582.4898071289062, 582.4898071289062, 1217115.125]"
            ]
          },
          "metadata": {},
          "execution_count": 43
        }
      ]
    },
    {
      "cell_type": "code",
      "source": [
        "# Evaluate with saved best performing model\n",
        "proj_m3=tf.keras.models.load_model('/content/model_experiments/proj_m3_BiLSTM')\n",
        "proj_m3.evaluate(X_test, y_test)"
      ],
      "metadata": {
        "colab": {
          "base_uri": "https://localhost:8080/"
        },
        "id": "XAbhZcCKvKqQ",
        "outputId": "f54a0a29-372f-4349-9f5e-2db2ff1428a3"
      },
      "execution_count": 44,
      "outputs": [
        {
          "output_type": "stream",
          "name": "stderr",
          "text": [
            "WARNING:tensorflow:Layer lstm_4 will not use cuDNN kernels since it doesn't meet the criteria. It will use a generic GPU kernel as fallback when running on GPU.\n",
            "WARNING:tensorflow:Layer lstm_4 will not use cuDNN kernels since it doesn't meet the criteria. It will use a generic GPU kernel as fallback when running on GPU.\n",
            "WARNING:tensorflow:Layer lstm_4 will not use cuDNN kernels since it doesn't meet the criteria. It will use a generic GPU kernel as fallback when running on GPU.\n"
          ]
        },
        {
          "output_type": "stream",
          "name": "stdout",
          "text": [
            "18/18 [==============================] - 0s 3ms/step - loss: 582.4898 - mae: 582.4898 - mse: 1217115.1250\n"
          ]
        },
        {
          "output_type": "execute_result",
          "data": {
            "text/plain": [
              "[582.4898071289062, 582.4898071289062, 1217115.125]"
            ]
          },
          "metadata": {},
          "execution_count": 44
        }
      ]
    },
    {
      "cell_type": "code",
      "source": [
        "# Prediction using Test data\n",
        "proj_m3_preds = make_preds(proj_m3, X_test)"
      ],
      "metadata": {
        "colab": {
          "base_uri": "https://localhost:8080/"
        },
        "id": "7Nr8vX16zjMI",
        "outputId": "5c954c7c-158d-437a-afb4-7232f02a35b9"
      },
      "execution_count": 45,
      "outputs": [
        {
          "output_type": "stream",
          "name": "stdout",
          "text": [
            "18/18 [==============================] - 0s 2ms/step\n"
          ]
        }
      ]
    },
    {
      "cell_type": "code",
      "source": [
        "# Evaluate predictions\n",
        "proj_m3_results = evaluate_preds(y_true=y_test,\n",
        "                                 y_pred=proj_m3_preds)\n",
        "proj_m3_results"
      ],
      "metadata": {
        "colab": {
          "base_uri": "https://localhost:8080/"
        },
        "id": "H2s5opahzyRw",
        "outputId": "86f71a2f-780b-4e50-f762-602ed902312e"
      },
      "execution_count": 46,
      "outputs": [
        {
          "output_type": "execute_result",
          "data": {
            "text/plain": [
              "{'mae': 582.4898,\n",
              " 'mse': 1217115.1,\n",
              " 'rmse': 1103.2294,\n",
              " 'mape': 2.6109638,\n",
              " 'mase': 1.0232732}"
            ]
          },
          "metadata": {},
          "execution_count": 46
        }
      ]
    },
    {
      "cell_type": "code",
      "source": [
        "# VISUAL\n",
        "offset = 300\n",
        "plt.figure(figsize=(10,7))\n",
        "\n",
        "plot_time_series(timesteps=y_test.index.to_numpy(),\n",
        "                 values=y_test,\n",
        "                 start=offset,\n",
        "                 label='Test Data')\n",
        "plot_time_series(timesteps=y_test.index.to_numpy(),\n",
        "                 values=proj_m3_preds,\n",
        "                 start=offset,\n",
        "                 format='-',\n",
        "                 label='proj BiLSTM Predictions')"
      ],
      "metadata": {
        "colab": {
          "base_uri": "https://localhost:8080/",
          "height": 442
        },
        "id": "DQOx-SFv45D2",
        "outputId": "2681eff7-a388-47b5-de82-e38b51df6b0d"
      },
      "execution_count": 51,
      "outputs": [
        {
          "output_type": "display_data",
          "data": {
            "text/plain": [
              "<Figure size 720x504 with 1 Axes>"
            ],
            "image/png": "[encoded data removed]"
          },
          "metadata": {
            "needs_background": "light"
          }
        }
      ]
    },
    {
      "cell_type": "markdown",
      "source": [
        "### Model Comparison\n",
        "* Our Results so far"
      ],
      "metadata": {
        "id": "sfAuGpVV0sXv"
      }
    },
    {
      "cell_type": "code",
      "source": [
        "print(proj_m1_results)\n",
        "print(proj_m2_results)\n",
        "print(proj_m3_results)"
      ],
      "metadata": {
        "colab": {
          "base_uri": "https://localhost:8080/"
        },
        "id": "iForUM230yQg",
        "outputId": "16006d13-4a89-4e44-a943-d12a60ccaae6"
      },
      "execution_count": 49,
      "outputs": [
        {
          "output_type": "stream",
          "name": "stdout",
          "text": [
            "{'mae': 581.1559, 'mse': 1217954.1, 'rmse': 1103.6096, 'mape': 2.6226254, 'mase': 1.0209299}\n",
            "{'mae': 19865.957, 'mse': 701852900.0, 'rmse': 26492.508, 'mape': 98.067406, 'mase': 34.898983}\n",
            "{'mae': 582.4898, 'mse': 1217115.1, 'rmse': 1103.2294, 'mape': 2.6109638, 'mase': 1.0232732}\n"
          ]
        }
      ]
    },
    {
      "cell_type": "code",
      "source": [
        "# results from our models so far\n",
        "pd.DataFrame({'LSTM Multivar DataWindow=7 Horizon=1': proj_m1_results['rmse'],\n",
        "              'stackLSTM Multivar DataWindow=7 Horizon=1': proj_m2_results['rmse'],\n",
        "              'BiLSTM Multivar DataWindow=7 Horizon=1': proj_m3_results['rmse']\n",
        "              },index=['rmse']).plot(figsize=(14,7),kind='bar')"
      ],
      "metadata": {
        "colab": {
          "base_uri": "https://localhost:8080/",
          "height": 460
        },
        "id": "ukD5u9D0pMt6",
        "outputId": "8fa1fa9a-309d-4eb9-88e4-163d5fb4a049"
      },
      "execution_count": 50,
      "outputs": [
        {
          "output_type": "execute_result",
          "data": {
            "text/plain": [
              "<matplotlib.axes._subplots.AxesSubplot at 0x7f3fc8218dc0>"
            ]
          },
          "metadata": {},
          "execution_count": 50
        },
        {
          "output_type": "display_data",
          "data": {
            "text/plain": [
              "<Figure size 1008x504 with 1 Axes>"
            ],
            "image/png": "[encoded data removed]"
          },
          "metadata": {
            "needs_background": "light"
          }
        }
      ]
    },
    {
      "cell_type": "markdown",
      "source": [
        "## Modeling Experiments DO NOT USE"
      ],
      "metadata": {
        "id": "JdRrJZ0X_vw7"
      }
    },
    {
      "cell_type": "markdown",
      "source": [
        "## Model 0: Naive forecast (baseline) for a horizon of 1\n",
        "$$\\hat{y}_(t) = y_(t-1)$$\n",
        "\n",
        "The prediction at timestep t(y-hat) is equal to the vale at timestep t-1(previous timestep)"
      ],
      "metadata": {
        "id": "pSkEVsL0rG4K"
      }
    },
    {
      "cell_type": "code",
      "source": [
        "# naive forecast for a horizon of 1\n",
        "naive_forecast = y_test[:-1]\n",
        "\n",
        "# DEBUG y_test[-10:]\n",
        "# DEBUG naive_forecast[-10:]"
      ],
      "metadata": {
        "id": "FksDGky0q_fX"
      },
      "execution_count": null,
      "outputs": []
    },
    {
      "cell_type": "code",
      "source": [
        "# Visual\n",
        "plt.figure(figsize=(10,7))\n",
        "# plot_time_series(timesteps=X_train, values=y_train, label='Train data')\n",
        "plot_time_series(timesteps=X_test, values=y_test, start=30, label='Test data')\n",
        "plot_time_series(timesteps=X_test[1:], values=naive_forecast, start=30, format='-', label='Naive Forecast')"
      ],
      "metadata": {
        "colab": {
          "base_uri": "https://localhost:8080/",
          "height": 442
        },
        "id": "cxzEzNEIse6b",
        "outputId": "74d9b3e2-7f1d-45cc-fc85-29ba2f383e52"
      },
      "execution_count": null,
      "outputs": [
        {
          "output_type": "display_data",
          "data": {
            "text/plain": [
              "<Figure size 720x504 with 1 Axes>"
            ],
            "image/png": "[encoded data removed]"
          },
          "metadata": {
            "needs_background": "light"
          }
        }
      ]
    },
    {
      "cell_type": "code",
      "source": [
        "# MASE implementation\n",
        "def mean_absolute_scaled_error(y_true, y_pred):\n",
        "  \"\"\"\n",
        "  Implement MASE (assuming no seasonality of data).\n",
        "  \"\"\"\n",
        "  mae = tf.reduce_mean(tf.abs(y_true-y_pred))\n",
        "\n",
        "  # MAE of naive forecast (no seasonality)\n",
        "  mae_naive_no_season = tf.reduce_mean(tf.abs(y_true[1:] - y_true[:-1]))\n",
        "  \n",
        "  return mae / mae_naive_no_season\n",
        "\n",
        "  # DEBUG mean_absolute_scaled_error(y_true=y_test[1:], y_pred=naive_forecast).numpy()"
      ],
      "metadata": {
        "id": "9gOtQmV_3eCD"
      },
      "execution_count": null,
      "outputs": []
    },
    {
      "cell_type": "code",
      "source": [
        "# DEBUG mean_absolute_scaled_error(y_true=y_test[1:], y_pred=naive_forecast).numpy()"
      ],
      "metadata": {
        "id": "1Pzefj2Z5JAp"
      },
      "execution_count": null,
      "outputs": []
    },
    {
      "cell_type": "code",
      "source": [
        "# function to return model evaluation metrics\n",
        "def evaluate_preds(y_true, y_pred):\n",
        "  '''\n",
        "  input:  y_true, y_pred, true and predicted value from our model\n",
        "  output: dictionary of evaluation metrics {mae,mse,rms,mape,mase}\n",
        "  '''\n",
        "\n",
        "  # make sure float32 datatype (for metric calculation) to comply with tensorflow requirements, note numpy use float64\n",
        "  y_true = tf.cast(y_true, dtype=tf.float32)\n",
        "  y_pred = tf.cast(y_pred, dtype=tf.float32)\n",
        "\n",
        "  # calculate the metrics\n",
        "  mae = tf.keras.metrics.mean_absolute_error(y_true, y_pred)\n",
        "  mse = tf.keras.metrics.mean_squared_error(y_true, y_pred)\n",
        "  rmse = tf.sqrt(mse)\n",
        "  mape = tf.keras.metrics.mean_absolute_percentage_error(y_true, y_pred)\n",
        "  mase = mean_absolute_scaled_error(y_true, y_pred)\n",
        "\n",
        "  # reduce outputs to single values if HORIZON is greater than 1\n",
        "  if mae.ndim > 0:\n",
        "    mae = tf.reduce_mean(mae)\n",
        "    mse = tf.reduce_mean(mse)\n",
        "    rmse = tf.reduce_mean(rmse)\n",
        "    mape = tf.reduce_mean(mape)\n",
        "    mase = tf.reduce_mean(mase)\n",
        "\n",
        "  return {'mae': mae.numpy(),\n",
        "          'mse': mse.numpy(),\n",
        "          'rmse': rmse.numpy(),\n",
        "          'mape': mape.numpy(),\n",
        "          'mase': mase.numpy()}"
      ],
      "metadata": {
        "id": "dVSEYLRK5YzD"
      },
      "execution_count": null,
      "outputs": []
    },
    {
      "cell_type": "code",
      "source": [
        "naive_results = evaluate_preds(y_true=y_test[1:],\n",
        "                               y_pred=naive_forecast)\n",
        "naive_results"
      ],
      "metadata": {
        "colab": {
          "base_uri": "https://localhost:8080/"
        },
        "id": "9OPYqYxg8vNp",
        "outputId": "4cae983d-bd48-4956-b741-e7efbcd72a04"
      },
      "execution_count": null,
      "outputs": [
        {
          "output_type": "execute_result",
          "data": {
            "text/plain": [
              "{'mae': 567.9802,\n",
              " 'mse': 1147547.0,\n",
              " 'rmse': 1071.2362,\n",
              " 'mape': 2.516525,\n",
              " 'mase': 0.99957}"
            ]
          },
          "metadata": {},
          "execution_count": 32
        }
      ]
    },
    {
      "cell_type": "markdown",
      "source": [
        "## Model 1: Dense (window=7, horizon=1)"
      ],
      "metadata": {
        "id": "FieUSpxWvp4s"
      }
    },
    {
      "cell_type": "markdown",
      "source": [
        "* simple dense layer with 128 hidden units and ReLU\n",
        "* output layer with linear activation\n",
        "* Adam optimizer and MAE loss function\n",
        "* Batch size of 128(typical for time-series)\n",
        "* 100 epochs"
      ],
      "metadata": {
        "id": "xdPESyPAwF7W"
      }
    },
    {
      "cell_type": "code",
      "source": [
        "# Model1: simple Dense model, 128 hidden units, ReLU\n",
        "import tensorflow as tf\n",
        "from tensorflow.keras import layers\n",
        "\n",
        "# random seed\n",
        "tf.random.set_seed(42)\n",
        "\n",
        "# Model\n",
        "model_1 = tf.keras.Sequential([\n",
        "    layers.Dense(128,activation='relu'),\n",
        "    # add extra layers here\n",
        "    layers.Dense(HORIZON,                      # typically HORIZON==1\n",
        "                 activation='linear')\n",
        "], name='model_1_dense')\n",
        "\n",
        "# Compile\n",
        "model_1.compile(loss='mae',\n",
        "                optimizer=tf.keras.optimizers.Adam(learning_rate=0.001),\n",
        "                metrics=['mae','mse'])\n",
        "\n",
        "# Fit\n",
        "model_1.fit(x=train_windows,\n",
        "            y=train_labels,\n",
        "            epochs=100,\n",
        "            verbose=0,\n",
        "            batch_size=128,\n",
        "            validation_data=(test_windows, test_labels),\n",
        "            callbacks=[create_model_checkpoint(model_name=model_1.name)])"
      ],
      "metadata": {
        "colab": {
          "base_uri": "https://localhost:8080/"
        },
        "id": "92sil2_evWFt",
        "outputId": "b4e952e7-e3df-4d9d-a436-15ae9735d696"
      },
      "execution_count": null,
      "outputs": [
        {
          "output_type": "execute_result",
          "data": {
            "text/plain": [
              "<keras.callbacks.History at 0x7f058c46d5e0>"
            ]
          },
          "metadata": {},
          "execution_count": 33
        }
      ]
    },
    {
      "cell_type": "code",
      "source": [
        "model_1.summary()"
      ],
      "metadata": {
        "colab": {
          "base_uri": "https://localhost:8080/"
        },
        "id": "L77TFqdVfTTm",
        "outputId": "11dc1503-6b91-46be-cf65-602c99afbc04"
      },
      "execution_count": null,
      "outputs": [
        {
          "output_type": "stream",
          "name": "stdout",
          "text": [
            "Model: \"model_1_dense\"\n",
            "_________________________________________________________________\n",
            " Layer (type)                Output Shape              Param #   \n",
            "=================================================================\n",
            " dense_1 (Dense)             (None, 128)               1024      \n",
            "                                                                 \n",
            " dense_2 (Dense)             (None, 1)                 129       \n",
            "                                                                 \n",
            "=================================================================\n",
            "Total params: 1,153\n",
            "Trainable params: 1,153\n",
            "Non-trainable params: 0\n",
            "_________________________________________________________________\n"
          ]
        }
      ]
    },
    {
      "cell_type": "code",
      "source": [
        "# Evaluate on test data\n",
        "model_1.evaluate(test_windows, test_labels)"
      ],
      "metadata": {
        "colab": {
          "base_uri": "https://localhost:8080/"
        },
        "id": "ioLcCoQo2Z3j",
        "outputId": "d2b55a3d-becb-4db5-fbe7-186f4b617b1f"
      },
      "execution_count": null,
      "outputs": [
        {
          "output_type": "stream",
          "name": "stdout",
          "text": [
            "18/18 [==============================] - 0s 2ms/step - loss: 585.9758 - mae: 585.9758 - mse: 1197802.1250\n"
          ]
        },
        {
          "output_type": "execute_result",
          "data": {
            "text/plain": [
              "[585.9757690429688, 585.9757690429688, 1197802.125]"
            ]
          },
          "metadata": {},
          "execution_count": 35
        }
      ]
    },
    {
      "cell_type": "code",
      "source": [
        "# Use the saved best performing model_1 and evaluate it on test data\n",
        "model_1=tf.keras.models.load_model('/content/model_experiments/model_1_dense')\n",
        "model_1.evaluate(test_windows, test_labels)"
      ],
      "metadata": {
        "colab": {
          "base_uri": "https://localhost:8080/"
        },
        "id": "pFgheq4x2jam",
        "outputId": "5b9c14ac-0e00-4e7c-be5f-ede87de678bf"
      },
      "execution_count": null,
      "outputs": [
        {
          "output_type": "stream",
          "name": "stdout",
          "text": [
            "18/18 [==============================] - 0s 3ms/step - loss: 568.9510 - mae: 568.9510 - mse: 1171743.6250\n"
          ]
        },
        {
          "output_type": "execute_result",
          "data": {
            "text/plain": [
              "[568.9510498046875, 568.9510498046875, 1171743.625]"
            ]
          },
          "metadata": {},
          "execution_count": 36
        }
      ]
    },
    {
      "cell_type": "code",
      "source": [
        "# Make predictions using model_1\n",
        "model_1_preds = make_preds(model_1, test_windows)\n",
        "# DEBUG len(model_1_preds), model_1_preds[:10]"
      ],
      "metadata": {
        "colab": {
          "base_uri": "https://localhost:8080/"
        },
        "id": "CujjBo8k5sc6",
        "outputId": "4538dcde-14a5-4f60-ebf8-e199e515ab6b"
      },
      "execution_count": null,
      "outputs": [
        {
          "output_type": "stream",
          "name": "stdout",
          "text": [
            "18/18 [==============================] - 0s 1ms/step\n"
          ]
        }
      ]
    },
    {
      "cell_type": "code",
      "source": [
        "# DEBUG tf.squeeze(test_labels).shape, model_1_preds.shape"
      ],
      "metadata": {
        "id": "NVJ9fdEi6-4y"
      },
      "execution_count": null,
      "outputs": []
    },
    {
      "cell_type": "code",
      "source": [
        "# Evaluate preds\n",
        "model_1_results = evaluate_preds(y_true=tf.squeeze(test_labels),\n",
        "                                 y_pred=model_1_preds)\n",
        "model_1_results"
      ],
      "metadata": {
        "colab": {
          "base_uri": "https://localhost:8080/"
        },
        "id": "tsNbBhuE6fUA",
        "outputId": "fb8ec46a-d05c-44f8-95ac-c0dea0d03a8c"
      },
      "execution_count": null,
      "outputs": [
        {
          "output_type": "execute_result",
          "data": {
            "text/plain": [
              "{'mae': 568.9511,\n",
              " 'mse': 1171743.8,\n",
              " 'rmse': 1082.4711,\n",
              " 'mape': 2.5448983,\n",
              " 'mase': 0.99948955}"
            ]
          },
          "metadata": {},
          "execution_count": 39
        }
      ]
    },
    {
      "cell_type": "code",
      "source": [
        "# DEBUG test_labels.shape"
      ],
      "metadata": {
        "id": "8nrnFwh_8aYx"
      },
      "execution_count": null,
      "outputs": []
    },
    {
      "cell_type": "code",
      "source": [
        "# Plot\n",
        "offset = 450\n",
        "plt.figure(figsize=(10,7))\n",
        "\n",
        "plot_time_series(timesteps=X_test[-len(test_windows):], \n",
        "                 values=test_labels[:,0], \n",
        "                 start=offset, label='Test Data')\n",
        "\n",
        "plot_time_series(timesteps=X_test[-len(test_windows):], \n",
        "                 values=model_1_preds,\n",
        "                 format='-',\n",
        "                 start=offset, label='Model 1 Predictions')"
      ],
      "metadata": {
        "colab": {
          "base_uri": "https://localhost:8080/",
          "height": 446
        },
        "id": "B9-scrJC69so",
        "outputId": "9ac998ea-7768-4df1-ffeb-237440d4511e"
      },
      "execution_count": null,
      "outputs": [
        {
          "output_type": "display_data",
          "data": {
            "text/plain": [
              "<Figure size 720x504 with 1 Axes>"
            ],
            "image/png": "[encoded data removed]"
          },
          "metadata": {
            "needs_background": "light"
          }
        }
      ]
    },
    {
      "cell_type": "markdown",
      "source": [
        "## Model 2: Dense (Window=30, horizon=1)"
      ],
      "metadata": {
        "id": "CckYPVIJ_nKo"
      }
    },
    {
      "cell_type": "markdown",
      "source": [
        "###### ref: https://otexts.com/fpp3/acf.html"
      ],
      "metadata": {
        "id": "cfeCglurAEVP"
      }
    },
    {
      "cell_type": "code",
      "source": [
        "HORIZON = 1   # predict one day of stock price\n",
        "WINDOW_SIZE = 30"
      ],
      "metadata": {
        "id": "ELUfDjA7AZcA"
      },
      "execution_count": null,
      "outputs": []
    },
    {
      "cell_type": "code",
      "source": [
        "# Make windowed data with new window size\n",
        "full_windows, full_labels = make_windows(prices, window_size=WINDOW_SIZE, horizon=HORIZON)\n",
        "len(full_windows), len(full_labels)"
      ],
      "metadata": {
        "colab": {
          "base_uri": "https://localhost:8080/"
        },
        "id": "h3YuXoYOB-Zp",
        "outputId": "692d12f8-eb3e-4131-8ee6-02b3bb115ff6"
      },
      "execution_count": null,
      "outputs": [
        {
          "output_type": "execute_result",
          "data": {
            "text/plain": [
              "(2757, 2757)"
            ]
          },
          "metadata": {},
          "execution_count": 42
        }
      ]
    },
    {
      "cell_type": "code",
      "source": [
        "# Make train/test split\n",
        "train_windows, test_windows, train_labels, test_labels = make_train_test_splits(windows=full_windows,\n",
        "                                                                                labels=full_labels,\n",
        "                                                                                test_split=0.2)\n",
        "len(train_windows), len(test_windows), len(train_labels), len(test_labels)"
      ],
      "metadata": {
        "colab": {
          "base_uri": "https://localhost:8080/"
        },
        "id": "gU35cg23Cb4V",
        "outputId": "d109cbb5-6538-4d79-8e83-56dca910267c"
      },
      "execution_count": null,
      "outputs": [
        {
          "output_type": "execute_result",
          "data": {
            "text/plain": [
              "(2205, 552, 2205, 552)"
            ]
          },
          "metadata": {},
          "execution_count": 43
        }
      ]
    },
    {
      "cell_type": "code",
      "source": [
        "len(train_windows[0])"
      ],
      "metadata": {
        "colab": {
          "base_uri": "https://localhost:8080/"
        },
        "id": "x_HfjOuLDhLY",
        "outputId": "646148e4-694a-4406-9281-1e35a1c83a3e"
      },
      "execution_count": null,
      "outputs": [
        {
          "output_type": "execute_result",
          "data": {
            "text/plain": [
              "30"
            ]
          },
          "metadata": {},
          "execution_count": 44
        }
      ]
    },
    {
      "cell_type": "code",
      "source": [
        "# DEBUG train_windows[:3], train_labels[:3]"
      ],
      "metadata": {
        "id": "mGha-LpaDOMy"
      },
      "execution_count": null,
      "outputs": []
    },
    {
      "cell_type": "code",
      "source": [
        "# Model2: simple Dense model, 128 hidden units, ReLU\n",
        "\n",
        "# random seed\n",
        "tf.random.set_seed(42)\n",
        "\n",
        "# Model\n",
        "model_2 = tf.keras.Sequential([\n",
        "    layers.Dense(128,activation='relu'),\n",
        "    # add extra layers here\n",
        "    layers.Dense(HORIZON,                      # typically HORIZON==1\n",
        "                 activation='linear')\n",
        "], name='model_2_dense')\n",
        "\n",
        "# Compile\n",
        "model_2.compile(loss='mae',\n",
        "                optimizer=tf.keras.optimizers.Adam(learning_rate=0.001),\n",
        "                metrics=['mae','mse'])\n",
        "\n",
        "# Fit\n",
        "model_2.fit(x=train_windows,\n",
        "            y=train_labels,\n",
        "            epochs=100,\n",
        "            verbose=0,\n",
        "            batch_size=128,\n",
        "            validation_data=(test_windows, test_labels),\n",
        "            callbacks=[create_model_checkpoint(model_name=model_2.name)])"
      ],
      "metadata": {
        "colab": {
          "base_uri": "https://localhost:8080/"
        },
        "id": "WpYViBh8DcrF",
        "outputId": "4675cb12-ade1-4fc0-a490-9e11f6a19073"
      },
      "execution_count": null,
      "outputs": [
        {
          "output_type": "execute_result",
          "data": {
            "text/plain": [
              "<keras.callbacks.History at 0x7f058cf33490>"
            ]
          },
          "metadata": {},
          "execution_count": 46
        }
      ]
    },
    {
      "cell_type": "code",
      "source": [
        "model_2.summary()"
      ],
      "metadata": {
        "colab": {
          "base_uri": "https://localhost:8080/"
        },
        "id": "irUbQR30gdYs",
        "outputId": "080aca60-58c1-42ef-8a84-08ec05fe948b"
      },
      "execution_count": null,
      "outputs": [
        {
          "output_type": "stream",
          "name": "stdout",
          "text": [
            "Model: \"model_2_dense\"\n",
            "_________________________________________________________________\n",
            " Layer (type)                Output Shape              Param #   \n",
            "=================================================================\n",
            " dense_3 (Dense)             (None, 128)               3968      \n",
            "                                                                 \n",
            " dense_4 (Dense)             (None, 1)                 129       \n",
            "                                                                 \n",
            "=================================================================\n",
            "Total params: 4,097\n",
            "Trainable params: 4,097\n",
            "Non-trainable params: 0\n",
            "_________________________________________________________________\n"
          ]
        }
      ]
    },
    {
      "cell_type": "code",
      "source": [
        "# Evaluate model 2 on test data\n",
        "model_2.evaluate(test_windows, test_labels)"
      ],
      "metadata": {
        "colab": {
          "base_uri": "https://localhost:8080/"
        },
        "id": "FFzy9QV0FoBQ",
        "outputId": "9a46b2ce-b2a8-4adb-d10e-8263553aeac7"
      },
      "execution_count": null,
      "outputs": [
        {
          "output_type": "stream",
          "name": "stdout",
          "text": [
            "18/18 [==============================] - 0s 2ms/step - loss: 659.3332 - mae: 659.3332 - mse: 1397247.7500\n"
          ]
        },
        {
          "output_type": "execute_result",
          "data": {
            "text/plain": [
              "[659.3331909179688, 659.3331909179688, 1397247.75]"
            ]
          },
          "metadata": {},
          "execution_count": 48
        }
      ]
    },
    {
      "cell_type": "code",
      "source": [
        "# Evaluate with best saved model_2\n",
        "\n",
        "# load the best saved model_2\n",
        "model_2 = tf.keras.models.load_model('/content/model_experiments/model_2_dense')\n",
        "model_2.evaluate(test_windows, test_labels)"
      ],
      "metadata": {
        "colab": {
          "base_uri": "https://localhost:8080/"
        },
        "id": "iAKVw5BGFwXW",
        "outputId": "c5e10ec4-ed34-475d-bf60-260344a3ea56"
      },
      "execution_count": null,
      "outputs": [
        {
          "output_type": "stream",
          "name": "stdout",
          "text": [
            "18/18 [==============================] - 0s 3ms/step - loss: 605.8741 - mae: 605.8741 - mse: 1273360.7500\n"
          ]
        },
        {
          "output_type": "execute_result",
          "data": {
            "text/plain": [
              "[605.8740844726562, 605.8740844726562, 1273360.75]"
            ]
          },
          "metadata": {},
          "execution_count": 49
        }
      ]
    },
    {
      "cell_type": "code",
      "source": [
        "# prediction on test data\n",
        "model_2_preds = make_preds(model_2,\n",
        "                           input_data=test_windows)"
      ],
      "metadata": {
        "colab": {
          "base_uri": "https://localhost:8080/"
        },
        "id": "WTKgRtj7GQ6N",
        "outputId": "f6fcdedc-328a-4ffb-b9cb-2d31080613f0"
      },
      "execution_count": null,
      "outputs": [
        {
          "output_type": "stream",
          "name": "stdout",
          "text": [
            "18/18 [==============================] - 0s 1ms/step\n"
          ]
        }
      ]
    },
    {
      "cell_type": "code",
      "source": [
        "# DEBUG tf.squeeze(test_labels).shape, model_2_preds.shape"
      ],
      "metadata": {
        "id": "L9BJQxVTGmDA"
      },
      "execution_count": null,
      "outputs": []
    },
    {
      "cell_type": "code",
      "source": [
        "# Evaluate results for model_2 predictions\n",
        "model_2_results = evaluate_preds(y_true=tf.squeeze(test_labels),\n",
        "                                 y_pred=model_2_preds)\n",
        "model_2_results"
      ],
      "metadata": {
        "colab": {
          "base_uri": "https://localhost:8080/"
        },
        "id": "GjyPNC-EG7VJ",
        "outputId": "85c22ea5-c9f7-4cc1-9253-7a74519632ef"
      },
      "execution_count": null,
      "outputs": [
        {
          "output_type": "execute_result",
          "data": {
            "text/plain": [
              "{'mae': 605.8741,\n",
              " 'mse': 1273360.8,\n",
              " 'rmse': 1128.4329,\n",
              " 'mape': 2.726445,\n",
              " 'mase': 1.0590738}"
            ]
          },
          "metadata": {},
          "execution_count": 51
        }
      ]
    },
    {
      "cell_type": "code",
      "source": [
        "# Visual\n",
        "offset = 300\n",
        "plt.figure(figsize=(10,7))\n",
        "\n",
        "plot_time_series(timesteps=X_test[-len(test_windows):],\n",
        "                 values=test_labels[:,0],\n",
        "                 start=offset,\n",
        "                 label='Test Data')\n",
        "plot_time_series(X_test[-len(test_windows):],\n",
        "                 values=model_2_preds,\n",
        "                 start=offset,\n",
        "                 format='-',\n",
        "                 label='Model 2 Predictions')"
      ],
      "metadata": {
        "colab": {
          "base_uri": "https://localhost:8080/",
          "height": 442
        },
        "id": "ESyixMYiHgik",
        "outputId": "8ea8861d-f4a2-47b2-8f16-1e2b803a3f06"
      },
      "execution_count": null,
      "outputs": [
        {
          "output_type": "display_data",
          "data": {
            "text/plain": [
              "<Figure size 720x504 with 1 Axes>"
            ],
            "image/png": "[encoded data removed]"
          },
          "metadata": {
            "needs_background": "light"
          }
        }
      ]
    },
    {
      "cell_type": "markdown",
      "source": [
        "## Model 3: Dense (Window=30, Horizon=7)"
      ],
      "metadata": {
        "id": "cQoORlvwK4lW"
      }
    },
    {
      "cell_type": "code",
      "source": [
        "HORIZON = 7   # predict 7 day of stock price into the future\n",
        "WINDOW_SIZE = 30"
      ],
      "metadata": {
        "id": "8HXe9dx5K37P"
      },
      "execution_count": null,
      "outputs": []
    },
    {
      "cell_type": "code",
      "source": [
        "# Make windowed data with new window size\n",
        "full_windows, full_labels = make_windows(prices, window_size=WINDOW_SIZE, horizon=HORIZON)\n",
        "len(full_windows), len(full_labels)"
      ],
      "metadata": {
        "colab": {
          "base_uri": "https://localhost:8080/"
        },
        "id": "wfEVOIfBL73P",
        "outputId": "1c561ff0-3efc-4ab6-972c-1627515afdad"
      },
      "execution_count": null,
      "outputs": [
        {
          "output_type": "execute_result",
          "data": {
            "text/plain": [
              "(2751, 2751)"
            ]
          },
          "metadata": {},
          "execution_count": 54
        }
      ]
    },
    {
      "cell_type": "code",
      "source": [
        "# Make train/test split\n",
        "train_windows, test_windows, train_labels, test_labels = make_train_test_splits(windows=full_windows,\n",
        "                                                                                labels=full_labels,\n",
        "                                                                                test_split=0.2)\n",
        "len(train_windows), len(test_windows), len(train_labels), len(test_labels)"
      ],
      "metadata": {
        "colab": {
          "base_uri": "https://localhost:8080/"
        },
        "id": "B7RRKB82MHmv",
        "outputId": "07f65ba0-97d0-4f62-9bf7-272feb194d7f"
      },
      "execution_count": null,
      "outputs": [
        {
          "output_type": "execute_result",
          "data": {
            "text/plain": [
              "(2200, 551, 2200, 551)"
            ]
          },
          "metadata": {},
          "execution_count": 55
        }
      ]
    },
    {
      "cell_type": "code",
      "source": [
        "len(train_windows[0]), len(train_labels[0])"
      ],
      "metadata": {
        "colab": {
          "base_uri": "https://localhost:8080/"
        },
        "id": "KyA4TWhbMZgW",
        "outputId": "f650f619-2543-49f6-e8e4-c95b296ed738"
      },
      "execution_count": null,
      "outputs": [
        {
          "output_type": "execute_result",
          "data": {
            "text/plain": [
              "(30, 7)"
            ]
          },
          "metadata": {},
          "execution_count": 56
        }
      ]
    },
    {
      "cell_type": "code",
      "source": [
        "# DEBUG train_windows[:3], train_labels[:3]"
      ],
      "metadata": {
        "id": "MeM6lv_hMjjo"
      },
      "execution_count": null,
      "outputs": []
    },
    {
      "cell_type": "code",
      "source": [
        "# Model3: simple Dense model, 128 hidden units, ReLU\n",
        "\n",
        "# random seed\n",
        "tf.random.set_seed(42)\n",
        "\n",
        "# Model\n",
        "model_3 = tf.keras.Sequential([\n",
        "    layers.Dense(128,activation='relu'),\n",
        "    # add extra layers here\n",
        "    layers.Dense(HORIZON,                      # typically HORIZON=1 for daily prediction, 7 for weekly prediction\n",
        "                 activation='linear')\n",
        "], name='model_3_dense')\n",
        "\n",
        "# Compile\n",
        "model_3.compile(loss='mae',\n",
        "                optimizer=tf.keras.optimizers.Adam(learning_rate=0.001),\n",
        "                metrics=['mae','mse'])\n",
        "\n",
        "# Fit\n",
        "model_3.fit(x=train_windows,\n",
        "            y=train_labels,\n",
        "            epochs=100,\n",
        "            verbose=0,\n",
        "            batch_size=128,\n",
        "            validation_data=(test_windows, test_labels),\n",
        "            callbacks=[create_model_checkpoint(model_name=model_3.name)])"
      ],
      "metadata": {
        "colab": {
          "base_uri": "https://localhost:8080/"
        },
        "id": "GGrWiWQvNEMF",
        "outputId": "e3c92fb8-aebf-43bb-9fd0-5e2b6a999543"
      },
      "execution_count": null,
      "outputs": [
        {
          "output_type": "execute_result",
          "data": {
            "text/plain": [
              "<keras.callbacks.History at 0x7f05a6332fa0>"
            ]
          },
          "metadata": {},
          "execution_count": 57
        }
      ]
    },
    {
      "cell_type": "code",
      "source": [
        "model_3.summary()"
      ],
      "metadata": {
        "colab": {
          "base_uri": "https://localhost:8080/"
        },
        "id": "3hoyYtVlg7mU",
        "outputId": "5b6bfa0c-483b-4f90-ab7f-a2a987857420"
      },
      "execution_count": null,
      "outputs": [
        {
          "output_type": "stream",
          "name": "stdout",
          "text": [
            "Model: \"model_3_dense\"\n",
            "_________________________________________________________________\n",
            " Layer (type)                Output Shape              Param #   \n",
            "=================================================================\n",
            " dense_5 (Dense)             (None, 128)               3968      \n",
            "                                                                 \n",
            " dense_6 (Dense)             (None, 7)                 903       \n",
            "                                                                 \n",
            "=================================================================\n",
            "Total params: 4,871\n",
            "Trainable params: 4,871\n",
            "Non-trainable params: 0\n",
            "_________________________________________________________________\n"
          ]
        }
      ]
    },
    {
      "cell_type": "code",
      "source": [
        "# Evaluate on test data\n",
        "model_3.evaluate(test_windows, test_labels)"
      ],
      "metadata": {
        "colab": {
          "base_uri": "https://localhost:8080/"
        },
        "id": "ZTlOBIMWOwQp",
        "outputId": "7113b8af-0a4e-47ac-b306-ba2b25843e94"
      },
      "execution_count": null,
      "outputs": [
        {
          "output_type": "stream",
          "name": "stdout",
          "text": [
            "18/18 [==============================] - 0s 2ms/step - loss: 1300.1525 - mae: 1300.1525 - mse: 5599956.0000\n"
          ]
        },
        {
          "output_type": "execute_result",
          "data": {
            "text/plain": [
              "[1300.1524658203125, 1300.1524658203125, 5599956.0]"
            ]
          },
          "metadata": {},
          "execution_count": 59
        }
      ]
    },
    {
      "cell_type": "code",
      "source": [
        "# Load the saved best performing model3 and evaluate on test dat\n",
        "model_3 = tf.keras.models.load_model('/content/model_experiments/model_3_dense')\n",
        "model_3.evaluate(test_windows, test_labels)"
      ],
      "metadata": {
        "colab": {
          "base_uri": "https://localhost:8080/"
        },
        "id": "sBCEu_qVO9kh",
        "outputId": "32743185-6f1d-4923-f9c1-6ce70b49bb4d"
      },
      "execution_count": null,
      "outputs": [
        {
          "output_type": "stream",
          "name": "stdout",
          "text": [
            "18/18 [==============================] - 0s 2ms/step - loss: 1237.5065 - mae: 1237.5065 - mse: 5405199.0000\n"
          ]
        },
        {
          "output_type": "execute_result",
          "data": {
            "text/plain": [
              "[1237.5064697265625, 1237.5064697265625, 5405199.0]"
            ]
          },
          "metadata": {},
          "execution_count": 60
        }
      ]
    },
    {
      "cell_type": "code",
      "source": [
        "# Make prediction with Model_3\n",
        "model_3_preds = make_preds(model_3,\n",
        "                           input_data=test_windows)"
      ],
      "metadata": {
        "colab": {
          "base_uri": "https://localhost:8080/"
        },
        "id": "TZRGqpqDPa52",
        "outputId": "82e81141-8783-4687-d4c3-0f37d29d3a93"
      },
      "execution_count": null,
      "outputs": [
        {
          "output_type": "stream",
          "name": "stdout",
          "text": [
            "18/18 [==============================] - 0s 1ms/step\n"
          ]
        }
      ]
    },
    {
      "cell_type": "code",
      "source": [
        "# Metrics for model_3 results\n",
        "model_3_results = evaluate_preds(y_true=tf.squeeze(test_labels),\n",
        "                                 y_pred=model_3_preds)\n",
        "model_3_results"
      ],
      "metadata": {
        "colab": {
          "base_uri": "https://localhost:8080/"
        },
        "id": "5lR16HpTQshh",
        "outputId": "1dac301e-8659-4c7a-f18e-02ee10838e29"
      },
      "execution_count": null,
      "outputs": [
        {
          "output_type": "execute_result",
          "data": {
            "text/plain": [
              "{'mae': 1237.5065,\n",
              " 'mse': 5405198.5,\n",
              " 'rmse': 1425.7478,\n",
              " 'mape': 5.558879,\n",
              " 'mase': 2.2020733}"
            ]
          },
          "metadata": {},
          "execution_count": 62
        }
      ]
    },
    {
      "cell_type": "code",
      "source": [
        "# Visual\n",
        "offset = 300\n",
        "plt.figure(figsize=(10,7))\n",
        "\n",
        "plot_time_series(timesteps=X_test[-len(test_windows):],\n",
        "                 values=test_labels[:,0],\n",
        "                 start=offset,\n",
        "                 label='Test Data')\n",
        "plot_time_series(X_test[-len(test_windows):],\n",
        "                 values=tf.reduce_mean(model_3_preds, axis=1),\n",
        "                 start=offset,\n",
        "                 format='-',\n",
        "                 label='Model 3 Predictions Mean Value')"
      ],
      "metadata": {
        "colab": {
          "base_uri": "https://localhost:8080/",
          "height": 442
        },
        "id": "1hQKmD-UVl0V",
        "outputId": "046b5774-acdc-467b-a9f5-18dd1a275f81"
      },
      "execution_count": null,
      "outputs": [
        {
          "output_type": "display_data",
          "data": {
            "text/plain": [
              "<Figure size 720x504 with 1 Axes>"
            ],
            "image/png": "[encoded data removed]"
          },
          "metadata": {
            "needs_background": "light"
          }
        }
      ]
    },
    {
      "cell_type": "markdown",
      "source": [
        "## Model 4: Temporal Convolution Conv1D (Window=7 Horizon=1)"
      ],
      "metadata": {
        "id": "97E7BvM0-ZTs"
      }
    },
    {
      "cell_type": "code",
      "source": [
        "# reset Window and Horizon\n",
        "HORIZON = 1       # predict next day price\n",
        "WINDOW_SIZE = 7   # 7 day worth of data"
      ],
      "metadata": {
        "id": "TU303Uu37q9F"
      },
      "execution_count": null,
      "outputs": []
    },
    {
      "cell_type": "code",
      "source": [
        "# Create windowed data\n",
        "full_windows, full_labels = make_windows(prices, window_size=WINDOW_SIZE, horizon=HORIZON)\n",
        "len(full_windows), len(full_labels)"
      ],
      "metadata": {
        "colab": {
          "base_uri": "https://localhost:8080/"
        },
        "id": "2LyGTuLP-4j7",
        "outputId": "7667aa8b-7f96-4ade-d0f1-b60cd2547c71"
      },
      "execution_count": null,
      "outputs": [
        {
          "output_type": "execute_result",
          "data": {
            "text/plain": [
              "(2780, 2780)"
            ]
          },
          "metadata": {},
          "execution_count": 65
        }
      ]
    },
    {
      "cell_type": "code",
      "source": [
        "# Train/Test split\n",
        "train_windows, test_windows, train_labels, test_labels = make_train_test_splits(full_windows, full_labels)\n",
        "len(train_windows), len(train_labels), len(test_windows), len(test_labels)"
      ],
      "metadata": {
        "colab": {
          "base_uri": "https://localhost:8080/"
        },
        "id": "0luRcZtP_Rgr",
        "outputId": "2f543939-58a0-4677-e2aa-76d65a56e82b"
      },
      "execution_count": null,
      "outputs": [
        {
          "output_type": "execute_result",
          "data": {
            "text/plain": [
              "(2224, 2224, 556, 556)"
            ]
          },
          "metadata": {},
          "execution_count": 66
        }
      ]
    },
    {
      "cell_type": "code",
      "source": [
        "# per tf, we need an input shape of '(batch size, timesteps, input_dim)'"
      ],
      "metadata": {
        "id": "OUwmcp_g_scV"
      },
      "execution_count": null,
      "outputs": []
    },
    {
      "cell_type": "code",
      "source": [
        "# our data shape\n",
        "# DEBUG train_windows[0].shape"
      ],
      "metadata": {
        "id": "TtadSUnkAY6j"
      },
      "execution_count": null,
      "outputs": []
    },
    {
      "cell_type": "code",
      "source": [
        "# DEBUG x = tf.constant(train_windows[0])\n",
        "# DEBUG x"
      ],
      "metadata": {
        "id": "myJwYriEB4ld"
      },
      "execution_count": null,
      "outputs": []
    },
    {
      "cell_type": "code",
      "source": [
        "# ref tf.keras.layes.Lambda# expand dimension for input dim\n",
        "# DEBUG expand_dims_layer = layers.Lambda(lambda x: tf.expand_dims(x, axis=1))"
      ],
      "metadata": {
        "id": "Krt5iu7bAfEM"
      },
      "execution_count": null,
      "outputs": []
    },
    {
      "cell_type": "code",
      "source": [
        "# DEBUG print(f\"Original shape: {x.shape}\")\n",
        "# DEBUG print(f\"Expanded shape: {expand_dims_layer(x).shape}\")"
      ],
      "metadata": {
        "id": "2OreJLreCBzD"
      },
      "execution_count": null,
      "outputs": []
    },
    {
      "cell_type": "code",
      "source": [
        "# The model Temporal Convolution\n",
        "\n",
        "# random\n",
        "tf.random.set_seed(42)\n",
        "\n",
        "# Model\n",
        "model_4 = tf.keras.Sequential([\n",
        "    layers.Lambda(lambda x: tf.expand_dims(x, axis=1)),     # adjust data dimension to comply with tf requirement\n",
        "    layers.Conv1D(filters=128, kernel_size=5, strides=1, \n",
        "                  padding='causal',activation='relu'),      # filters = no. of neurons\n",
        "    # add extra layers here\n",
        "    layers.Dense(HORIZON)                                   # output layer, typically HORIZON=1 for daily price prediction\n",
        "], name='model_4_conv1D')\n",
        "\n",
        "# Compile\n",
        "model_4.compile(loss='mae',\n",
        "                optimizer=tf.keras.optimizers.Adam())\n",
        "\n",
        "# Fit\n",
        "model_4.fit(train_windows,\n",
        "            train_labels,\n",
        "            batch_size=128,\n",
        "            epochs=100,\n",
        "            verbose=0,\n",
        "            validation_data=(test_windows, test_labels),\n",
        "            callbacks=[create_model_checkpoint(model_name=model_4.name)])"
      ],
      "metadata": {
        "id": "D_tBYn-tCWAJ",
        "colab": {
          "base_uri": "https://localhost:8080/"
        },
        "outputId": "fb57eed7-15d9-4db7-b9dd-e03040376768"
      },
      "execution_count": null,
      "outputs": [
        {
          "output_type": "stream",
          "name": "stderr",
          "text": [
            "WARNING:absl:Found untraced functions such as _jit_compiled_convolution_op while saving (showing 1 of 1). These functions will not be directly callable after loading.\n",
            "WARNING:absl:Found untraced functions such as _jit_compiled_convolution_op while saving (showing 1 of 1). These functions will not be directly callable after loading.\n",
            "WARNING:absl:Found untraced functions such as _jit_compiled_convolution_op while saving (showing 1 of 1). These functions will not be directly callable after loading.\n",
            "WARNING:absl:Found untraced functions such as _jit_compiled_convolution_op while saving (showing 1 of 1). These functions will not be directly callable after loading.\n",
            "WARNING:absl:Found untraced functions such as _jit_compiled_convolution_op while saving (showing 1 of 1). These functions will not be directly callable after loading.\n",
            "WARNING:absl:Found untraced functions such as _jit_compiled_convolution_op while saving (showing 1 of 1). These functions will not be directly callable after loading.\n",
            "WARNING:absl:Found untraced functions such as _jit_compiled_convolution_op while saving (showing 1 of 1). These functions will not be directly callable after loading.\n",
            "WARNING:absl:Found untraced functions such as _jit_compiled_convolution_op while saving (showing 1 of 1). These functions will not be directly callable after loading.\n",
            "WARNING:absl:Found untraced functions such as _jit_compiled_convolution_op while saving (showing 1 of 1). These functions will not be directly callable after loading.\n",
            "WARNING:absl:Found untraced functions such as _jit_compiled_convolution_op while saving (showing 1 of 1). These functions will not be directly callable after loading.\n",
            "WARNING:absl:Found untraced functions such as _jit_compiled_convolution_op while saving (showing 1 of 1). These functions will not be directly callable after loading.\n",
            "WARNING:absl:Found untraced functions such as _jit_compiled_convolution_op while saving (showing 1 of 1). These functions will not be directly callable after loading.\n",
            "WARNING:absl:Found untraced functions such as _jit_compiled_convolution_op while saving (showing 1 of 1). These functions will not be directly callable after loading.\n",
            "WARNING:absl:Found untraced functions such as _jit_compiled_convolution_op while saving (showing 1 of 1). These functions will not be directly callable after loading.\n",
            "WARNING:absl:Found untraced functions such as _jit_compiled_convolution_op while saving (showing 1 of 1). These functions will not be directly callable after loading.\n",
            "WARNING:absl:Found untraced functions such as _jit_compiled_convolution_op while saving (showing 1 of 1). These functions will not be directly callable after loading.\n",
            "WARNING:absl:Found untraced functions such as _jit_compiled_convolution_op while saving (showing 1 of 1). These functions will not be directly callable after loading.\n",
            "WARNING:absl:Found untraced functions such as _jit_compiled_convolution_op while saving (showing 1 of 1). These functions will not be directly callable after loading.\n",
            "WARNING:absl:Found untraced functions such as _jit_compiled_convolution_op while saving (showing 1 of 1). These functions will not be directly callable after loading.\n",
            "WARNING:absl:Found untraced functions such as _jit_compiled_convolution_op while saving (showing 1 of 1). These functions will not be directly callable after loading.\n",
            "WARNING:absl:Found untraced functions such as _jit_compiled_convolution_op while saving (showing 1 of 1). These functions will not be directly callable after loading.\n",
            "WARNING:absl:Found untraced functions such as _jit_compiled_convolution_op while saving (showing 1 of 1). These functions will not be directly callable after loading.\n",
            "WARNING:absl:Found untraced functions such as _jit_compiled_convolution_op while saving (showing 1 of 1). These functions will not be directly callable after loading.\n",
            "WARNING:absl:Found untraced functions such as _jit_compiled_convolution_op while saving (showing 1 of 1). These functions will not be directly callable after loading.\n",
            "WARNING:absl:Found untraced functions such as _jit_compiled_convolution_op while saving (showing 1 of 1). These functions will not be directly callable after loading.\n",
            "WARNING:absl:Found untraced functions such as _jit_compiled_convolution_op while saving (showing 1 of 1). These functions will not be directly callable after loading.\n",
            "WARNING:absl:Found untraced functions such as _jit_compiled_convolution_op while saving (showing 1 of 1). These functions will not be directly callable after loading.\n",
            "WARNING:absl:Found untraced functions such as _jit_compiled_convolution_op while saving (showing 1 of 1). These functions will not be directly callable after loading.\n",
            "WARNING:absl:Found untraced functions such as _jit_compiled_convolution_op while saving (showing 1 of 1). These functions will not be directly callable after loading.\n",
            "WARNING:absl:Found untraced functions such as _jit_compiled_convolution_op while saving (showing 1 of 1). These functions will not be directly callable after loading.\n",
            "WARNING:absl:Found untraced functions such as _jit_compiled_convolution_op while saving (showing 1 of 1). These functions will not be directly callable after loading.\n",
            "WARNING:absl:Found untraced functions such as _jit_compiled_convolution_op while saving (showing 1 of 1). These functions will not be directly callable after loading.\n",
            "WARNING:absl:Found untraced functions such as _jit_compiled_convolution_op while saving (showing 1 of 1). These functions will not be directly callable after loading.\n",
            "WARNING:absl:Found untraced functions such as _jit_compiled_convolution_op while saving (showing 1 of 1). These functions will not be directly callable after loading.\n",
            "WARNING:absl:Found untraced functions such as _jit_compiled_convolution_op while saving (showing 1 of 1). These functions will not be directly callable after loading.\n",
            "WARNING:absl:Found untraced functions such as _jit_compiled_convolution_op while saving (showing 1 of 1). These functions will not be directly callable after loading.\n",
            "WARNING:absl:Found untraced functions such as _jit_compiled_convolution_op while saving (showing 1 of 1). These functions will not be directly callable after loading.\n",
            "WARNING:absl:Found untraced functions such as _jit_compiled_convolution_op while saving (showing 1 of 1). These functions will not be directly callable after loading.\n",
            "WARNING:absl:Found untraced functions such as _jit_compiled_convolution_op while saving (showing 1 of 1). These functions will not be directly callable after loading.\n"
          ]
        },
        {
          "output_type": "execute_result",
          "data": {
            "text/plain": [
              "<keras.callbacks.History at 0x7f058ec64ca0>"
            ]
          },
          "metadata": {},
          "execution_count": 67
        }
      ]
    },
    {
      "cell_type": "code",
      "source": [
        "model_4.summary()"
      ],
      "metadata": {
        "colab": {
          "base_uri": "https://localhost:8080/"
        },
        "id": "_uEtVnMi_hkK",
        "outputId": "7f0286bb-4620-4011-f6e9-b36549abfa14"
      },
      "execution_count": null,
      "outputs": [
        {
          "output_type": "stream",
          "name": "stdout",
          "text": [
            "Model: \"model_4_conv1D\"\n",
            "_________________________________________________________________\n",
            " Layer (type)                Output Shape              Param #   \n",
            "=================================================================\n",
            " lambda_1 (Lambda)           (None, 1, 7)              0         \n",
            "                                                                 \n",
            " conv1d (Conv1D)             (None, 1, 128)            4608      \n",
            "                                                                 \n",
            " dense_7 (Dense)             (None, 1, 1)              129       \n",
            "                                                                 \n",
            "=================================================================\n",
            "Total params: 4,737\n",
            "Trainable params: 4,737\n",
            "Non-trainable params: 0\n",
            "_________________________________________________________________\n"
          ]
        }
      ]
    },
    {
      "cell_type": "code",
      "source": [
        "# Evaluate \n",
        "model_4.evaluate(test_windows, test_labels)"
      ],
      "metadata": {
        "colab": {
          "base_uri": "https://localhost:8080/"
        },
        "id": "ZlaYuDCE_jMi",
        "outputId": "25551aa2-ba8d-46d4-be90-210834a94080"
      },
      "execution_count": null,
      "outputs": [
        {
          "output_type": "stream",
          "name": "stdout",
          "text": [
            "18/18 [==============================] - 0s 4ms/step - loss: 610.1541\n"
          ]
        },
        {
          "output_type": "execute_result",
          "data": {
            "text/plain": [
              "610.154052734375"
            ]
          },
          "metadata": {},
          "execution_count": 69
        }
      ]
    },
    {
      "cell_type": "code",
      "source": [
        "# Evaluate with our saved best performing model\n",
        "\n",
        "# load the save model\n",
        "model_4 = tf.keras.models.load_model('/content/model_experiments/model_4_conv1D')\n",
        "model_4.evaluate(test_windows, test_labels)"
      ],
      "metadata": {
        "colab": {
          "base_uri": "https://localhost:8080/"
        },
        "id": "gFej6KBNATA3",
        "outputId": "9e1c76a5-bdef-4d87-883a-bf1f0b3d8a2c"
      },
      "execution_count": null,
      "outputs": [
        {
          "output_type": "stream",
          "name": "stdout",
          "text": [
            "18/18 [==============================] - 0s 2ms/step - loss: 570.8284\n"
          ]
        },
        {
          "output_type": "execute_result",
          "data": {
            "text/plain": [
              "570.828369140625"
            ]
          },
          "metadata": {},
          "execution_count": 70
        }
      ]
    },
    {
      "cell_type": "code",
      "source": [
        "# Make predictions\n",
        "model_4_preds = make_preds(model_4, test_windows)"
      ],
      "metadata": {
        "colab": {
          "base_uri": "https://localhost:8080/"
        },
        "id": "3XOX7sIPA12K",
        "outputId": "0d6c321f-eaa7-4e5a-c95f-f75a940f45de"
      },
      "execution_count": null,
      "outputs": [
        {
          "output_type": "stream",
          "name": "stdout",
          "text": [
            "18/18 [==============================] - 0s 2ms/step\n"
          ]
        }
      ]
    },
    {
      "cell_type": "code",
      "source": [
        "# Evaluate predictions with metrics\n",
        "model_4_results = evaluate_preds(y_true=tf.squeeze(test_labels),\n",
        "                                 y_pred=model_4_preds)\n",
        "model_4_results"
      ],
      "metadata": {
        "colab": {
          "base_uri": "https://localhost:8080/"
        },
        "id": "NMJhiwhzBxQC",
        "outputId": "8ee28c56-4405-4e18-b348-9a1deeb49d58"
      },
      "execution_count": null,
      "outputs": [
        {
          "output_type": "execute_result",
          "data": {
            "text/plain": [
              "{'mae': 570.82837,\n",
              " 'mse': 1176671.2,\n",
              " 'rmse': 1084.7448,\n",
              " 'mape': 2.5593357,\n",
              " 'mase': 1.0027874}"
            ]
          },
          "metadata": {},
          "execution_count": 72
        }
      ]
    },
    {
      "cell_type": "markdown",
      "source": [
        "## Model 5: LSTM (Window=7,Horizon=1)"
      ],
      "metadata": {
        "id": "RvVM83LND68Z"
      }
    },
    {
      "cell_type": "code",
      "source": [
        "# random\n",
        "tf.random.set_seed(42)\n",
        "\n",
        "# Model (this is a functional API)\n",
        "inputs = layers.Input(shape=(WINDOW_SIZE))\n",
        "x = layers.Lambda(lambda x: tf.expand_dims(x, axis=1))(inputs)   # expand input dimension to comply with tf requirements\n",
        "# x = layers.LSTM(128, return_sequences=True)(x)                 # use this layer if we want to stack the layers by routing the output to the next input\n",
        "x = layers.LSTM(128, activation='relu')(x)                       # default activation is tanh\n",
        "# x = layers.Dense(32, activation='relu')(x)                     # Add Dense layer here for more complex model\n",
        "output = layers.Dense(HORIZON)(x)                                # typically HORIZON==1 for daily price prediction\n",
        "model_5 = tf.keras.Model(inputs=inputs, outputs=output, name='model_5_LSTM')\n",
        "\n",
        "# Compile\n",
        "model_5.compile(loss='mae',\n",
        "                optimizer=tf.keras.optimizers.Adam(learning_rate = 0.001))\n",
        "\n",
        "# Fit\n",
        "model_5.fit(train_windows,\n",
        "            train_labels,\n",
        "            epochs=100,\n",
        "            verbose=1,\n",
        "            batch_size=128,\n",
        "            validation_data=(test_windows, test_labels),\n",
        "            callbacks=[create_model_checkpoint(model_name=model_5.name)])"
      ],
      "metadata": {
        "colab": {
          "base_uri": "https://localhost:8080/"
        },
        "id": "NSdywKGXDeHA",
        "outputId": "37d3dd44-c562-4fd6-a118-a23e3e8272f2"
      },
      "execution_count": null,
      "outputs": [
        {
          "output_type": "stream",
          "name": "stderr",
          "text": [
            "WARNING:tensorflow:Layer lstm_1 will not use cuDNN kernels since it doesn't meet the criteria. It will use a generic GPU kernel as fallback when running on GPU.\n"
          ]
        },
        {
          "output_type": "stream",
          "name": "stdout",
          "text": [
            "Epoch 1/100\n",
            "18/18 [==============================] - 3s 105ms/step - loss: 2323.6082 - val_loss: 9222.6523\n",
            "Epoch 2/100\n",
            "18/18 [==============================] - 2s 94ms/step - loss: 695.4739 - val_loss: 1486.0555\n",
            "Epoch 3/100\n",
            "18/18 [==============================] - 2s 94ms/step - loss: 237.3967 - val_loss: 1298.9084\n",
            "Epoch 4/100\n",
            "18/18 [==============================] - 2s 111ms/step - loss: 181.9180 - val_loss: 966.6431\n",
            "Epoch 5/100\n",
            "18/18 [==============================] - 0s 7ms/step - loss: 173.4022 - val_loss: 970.9295\n",
            "Epoch 6/100\n",
            "18/18 [==============================] - 2s 96ms/step - loss: 173.5414 - val_loss: 941.4746\n",
            "Epoch 7/100\n",
            "18/18 [==============================] - 2s 92ms/step - loss: 170.3566 - val_loss: 898.5215\n",
            "Epoch 8/100\n",
            "18/18 [==============================] - 0s 6ms/step - loss: 157.6712 - val_loss: 914.8642\n",
            "Epoch 9/100\n",
            "18/18 [==============================] - 0s 7ms/step - loss: 166.5143 - val_loss: 1079.0776\n",
            "Epoch 10/100\n",
            "18/18 [==============================] - 2s 93ms/step - loss: 162.3369 - val_loss: 877.1690\n",
            "Epoch 11/100\n",
            "18/18 [==============================] - 0s 7ms/step - loss: 163.0841 - val_loss: 924.1126\n",
            "Epoch 12/100\n",
            "18/18 [==============================] - 0s 7ms/step - loss: 168.5598 - val_loss: 941.6025\n",
            "Epoch 13/100\n",
            "18/18 [==============================] - 0s 7ms/step - loss: 166.4726 - val_loss: 934.8436\n",
            "Epoch 14/100\n",
            "18/18 [==============================] - 0s 6ms/step - loss: 163.9537 - val_loss: 920.2160\n",
            "Epoch 15/100\n",
            "18/18 [==============================] - 2s 109ms/step - loss: 152.9470 - val_loss: 856.2653\n",
            "Epoch 16/100\n",
            "18/18 [==============================] - 0s 7ms/step - loss: 147.4420 - val_loss: 898.9914\n",
            "Epoch 17/100\n",
            "18/18 [==============================] - 0s 6ms/step - loss: 151.0533 - val_loss: 943.1418\n",
            "Epoch 18/100\n",
            "18/18 [==============================] - 0s 6ms/step - loss: 157.8232 - val_loss: 924.0046\n",
            "Epoch 19/100\n",
            "18/18 [==============================] - 0s 6ms/step - loss: 155.9198 - val_loss: 911.4753\n",
            "Epoch 20/100\n",
            "18/18 [==============================] - 0s 7ms/step - loss: 155.6456 - val_loss: 862.6680\n",
            "Epoch 21/100\n",
            "18/18 [==============================] - 0s 7ms/step - loss: 153.1514 - val_loss: 862.5831\n",
            "Epoch 22/100\n",
            "18/18 [==============================] - 0s 6ms/step - loss: 151.4883 - val_loss: 863.8172\n",
            "Epoch 23/100\n",
            "18/18 [==============================] - 0s 7ms/step - loss: 150.7770 - val_loss: 886.8356\n",
            "Epoch 24/100\n",
            "18/18 [==============================] - 0s 7ms/step - loss: 148.6539 - val_loss: 861.3270\n",
            "Epoch 25/100\n",
            "18/18 [==============================] - 2s 95ms/step - loss: 146.8467 - val_loss: 845.2782\n",
            "Epoch 26/100\n",
            "18/18 [==============================] - 2s 94ms/step - loss: 145.9843 - val_loss: 818.6807\n",
            "Epoch 27/100\n",
            "18/18 [==============================] - 2s 93ms/step - loss: 144.4289 - val_loss: 804.3279\n",
            "Epoch 28/100\n",
            "18/18 [==============================] - 2s 114ms/step - loss: 142.4610 - val_loss: 789.0859\n",
            "Epoch 29/100\n",
            "18/18 [==============================] - 0s 6ms/step - loss: 141.8739 - val_loss: 806.6758\n",
            "Epoch 30/100\n",
            "18/18 [==============================] - 0s 6ms/step - loss: 142.0521 - val_loss: 794.8836\n",
            "Epoch 31/100\n",
            "18/18 [==============================] - 2s 95ms/step - loss: 138.4690 - val_loss: 773.2812\n",
            "Epoch 32/100\n",
            "18/18 [==============================] - 2s 94ms/step - loss: 137.1986 - val_loss: 772.2625\n",
            "Epoch 33/100\n",
            "18/18 [==============================] - 0s 7ms/step - loss: 135.9342 - val_loss: 786.4805\n",
            "Epoch 34/100\n",
            "18/18 [==============================] - 2s 93ms/step - loss: 136.1931 - val_loss: 744.4506\n",
            "Epoch 35/100\n",
            "18/18 [==============================] - 0s 7ms/step - loss: 133.4513 - val_loss: 756.2970\n",
            "Epoch 36/100\n",
            "18/18 [==============================] - 2s 98ms/step - loss: 134.0992 - val_loss: 735.1729\n",
            "Epoch 37/100\n",
            "18/18 [==============================] - 0s 6ms/step - loss: 130.6932 - val_loss: 745.9099\n",
            "Epoch 38/100\n",
            "18/18 [==============================] - 2s 117ms/step - loss: 129.2891 - val_loss: 717.2498\n",
            "Epoch 39/100\n",
            "18/18 [==============================] - 0s 7ms/step - loss: 129.6088 - val_loss: 719.0665\n",
            "Epoch 40/100\n",
            "18/18 [==============================] - 0s 7ms/step - loss: 129.6111 - val_loss: 732.0632\n",
            "Epoch 41/100\n",
            "18/18 [==============================] - 2s 94ms/step - loss: 127.1393 - val_loss: 702.9354\n",
            "Epoch 42/100\n",
            "18/18 [==============================] - 2s 93ms/step - loss: 125.6113 - val_loss: 700.8702\n",
            "Epoch 43/100\n",
            "18/18 [==============================] - 0s 6ms/step - loss: 125.9959 - val_loss: 704.3682\n",
            "Epoch 44/100\n",
            "18/18 [==============================] - 2s 93ms/step - loss: 125.2241 - val_loss: 698.7766\n",
            "Epoch 45/100\n",
            "18/18 [==============================] - 2s 113ms/step - loss: 122.5007 - val_loss: 683.0590\n",
            "Epoch 46/100\n",
            "18/18 [==============================] - 2s 95ms/step - loss: 124.4726 - val_loss: 679.1873\n",
            "Epoch 47/100\n",
            "18/18 [==============================] - 0s 7ms/step - loss: 122.1862 - val_loss: 705.4241\n",
            "Epoch 48/100\n",
            "18/18 [==============================] - 2s 96ms/step - loss: 122.0458 - val_loss: 677.0784\n",
            "Epoch 49/100\n",
            "18/18 [==============================] - 2s 92ms/step - loss: 121.1548 - val_loss: 674.6848\n",
            "Epoch 50/100\n",
            "18/18 [==============================] - 0s 8ms/step - loss: 122.8890 - val_loss: 691.4816\n",
            "Epoch 51/100\n",
            "18/18 [==============================] - 0s 7ms/step - loss: 122.2994 - val_loss: 737.3929\n",
            "Epoch 52/100\n",
            "18/18 [==============================] - 2s 112ms/step - loss: 121.2944 - val_loss: 657.2365\n",
            "Epoch 53/100\n",
            "18/18 [==============================] - 2s 95ms/step - loss: 119.7668 - val_loss: 652.7970\n",
            "Epoch 54/100\n",
            "18/18 [==============================] - 0s 7ms/step - loss: 120.1222 - val_loss: 654.4439\n",
            "Epoch 55/100\n",
            "18/18 [==============================] - 2s 95ms/step - loss: 119.2566 - val_loss: 647.2831\n",
            "Epoch 56/100\n",
            "18/18 [==============================] - 2s 94ms/step - loss: 120.0544 - val_loss: 643.7808\n",
            "Epoch 57/100\n",
            "18/18 [==============================] - 0s 7ms/step - loss: 123.1243 - val_loss: 671.1797\n",
            "Epoch 58/100\n",
            "18/18 [==============================] - 2s 93ms/step - loss: 118.4059 - val_loss: 640.2656\n",
            "Epoch 59/100\n",
            "18/18 [==============================] - 0s 7ms/step - loss: 117.7119 - val_loss: 645.3837\n",
            "Epoch 60/100\n",
            "18/18 [==============================] - 2s 111ms/step - loss: 118.5346 - val_loss: 638.7429\n",
            "Epoch 61/100\n",
            "18/18 [==============================] - 0s 7ms/step - loss: 118.3129 - val_loss: 689.4144\n",
            "Epoch 62/100\n",
            "18/18 [==============================] - 0s 6ms/step - loss: 121.4350 - val_loss: 748.5565\n",
            "Epoch 63/100\n",
            "18/18 [==============================] - 0s 7ms/step - loss: 123.1006 - val_loss: 651.8298\n",
            "Epoch 64/100\n",
            "18/18 [==============================] - 0s 6ms/step - loss: 115.9679 - val_loss: 672.9166\n",
            "Epoch 65/100\n",
            "18/18 [==============================] - 3s 165ms/step - loss: 118.8341 - val_loss: 631.7538\n",
            "Epoch 66/100\n",
            "18/18 [==============================] - 0s 6ms/step - loss: 116.2212 - val_loss: 634.5445\n",
            "Epoch 67/100\n",
            "18/18 [==============================] - 2s 95ms/step - loss: 116.1580 - val_loss: 623.8932\n",
            "Epoch 68/100\n",
            "18/18 [==============================] - 0s 8ms/step - loss: 115.5543 - val_loss: 635.4929\n",
            "Epoch 69/100\n",
            "18/18 [==============================] - 0s 7ms/step - loss: 120.5866 - val_loss: 626.3387\n",
            "Epoch 70/100\n",
            "18/18 [==============================] - 2s 93ms/step - loss: 114.9188 - val_loss: 619.3181\n",
            "Epoch 71/100\n",
            "18/18 [==============================] - 0s 7ms/step - loss: 114.8998 - val_loss: 650.9373\n",
            "Epoch 72/100\n",
            "18/18 [==============================] - 0s 6ms/step - loss: 118.2033 - val_loss: 630.5287\n",
            "Epoch 73/100\n",
            "18/18 [==============================] - 0s 6ms/step - loss: 115.3612 - val_loss: 623.0369\n",
            "Epoch 74/100\n",
            "18/18 [==============================] - 0s 7ms/step - loss: 115.0345 - val_loss: 623.0776\n",
            "Epoch 75/100\n",
            "18/18 [==============================] - 0s 7ms/step - loss: 115.2057 - val_loss: 640.5281\n",
            "Epoch 76/100\n",
            "18/18 [==============================] - 2s 116ms/step - loss: 114.1402 - val_loss: 614.4062\n",
            "Epoch 77/100\n",
            "18/18 [==============================] - 0s 6ms/step - loss: 115.5973 - val_loss: 689.8776\n",
            "Epoch 78/100\n",
            "18/18 [==============================] - 0s 6ms/step - loss: 117.2611 - val_loss: 645.2790\n",
            "Epoch 79/100\n",
            "18/18 [==============================] - 2s 96ms/step - loss: 114.1995 - val_loss: 608.7159\n",
            "Epoch 80/100\n",
            "18/18 [==============================] - 0s 7ms/step - loss: 112.7125 - val_loss: 614.9222\n",
            "Epoch 81/100\n",
            "18/18 [==============================] - 0s 7ms/step - loss: 113.3684 - val_loss: 634.8466\n",
            "Epoch 82/100\n",
            "18/18 [==============================] - 2s 96ms/step - loss: 115.9701 - val_loss: 607.8510\n",
            "Epoch 83/100\n",
            "18/18 [==============================] - 0s 6ms/step - loss: 113.3599 - val_loss: 628.8181\n",
            "Epoch 84/100\n",
            "18/18 [==============================] - 0s 6ms/step - loss: 114.4113 - val_loss: 628.5579\n",
            "Epoch 85/100\n",
            "18/18 [==============================] - 0s 8ms/step - loss: 114.8363 - val_loss: 634.7715\n",
            "Epoch 86/100\n",
            "18/18 [==============================] - 0s 6ms/step - loss: 115.5462 - val_loss: 613.5223\n",
            "Epoch 87/100\n",
            "18/18 [==============================] - 2s 98ms/step - loss: 112.5059 - val_loss: 604.7603\n",
            "Epoch 88/100\n",
            "18/18 [==============================] - 2s 96ms/step - loss: 111.7706 - val_loss: 601.5748\n",
            "Epoch 89/100\n",
            "18/18 [==============================] - 0s 7ms/step - loss: 111.8470 - val_loss: 624.0131\n",
            "Epoch 90/100\n",
            "18/18 [==============================] - 0s 7ms/step - loss: 115.6354 - val_loss: 662.9452\n",
            "Epoch 91/100\n",
            "18/18 [==============================] - 0s 7ms/step - loss: 116.1836 - val_loss: 636.0310\n",
            "Epoch 92/100\n",
            "18/18 [==============================] - 0s 6ms/step - loss: 113.1700 - val_loss: 606.0366\n",
            "Epoch 93/100\n",
            "18/18 [==============================] - 2s 114ms/step - loss: 112.4748 - val_loss: 599.8319\n",
            "Epoch 94/100\n",
            "18/18 [==============================] - 0s 6ms/step - loss: 111.2637 - val_loss: 601.3256\n",
            "Epoch 95/100\n",
            "18/18 [==============================] - 2s 96ms/step - loss: 111.0185 - val_loss: 597.1485\n",
            "Epoch 96/100\n",
            "18/18 [==============================] - 0s 7ms/step - loss: 112.3787 - val_loss: 601.1596\n",
            "Epoch 97/100\n",
            "18/18 [==============================] - 0s 7ms/step - loss: 111.4700 - val_loss: 626.1573\n",
            "Epoch 98/100\n",
            "18/18 [==============================] - 0s 6ms/step - loss: 111.7326 - val_loss: 601.0142\n",
            "Epoch 99/100\n",
            "18/18 [==============================] - 2s 94ms/step - loss: 110.7480 - val_loss: 594.6030\n",
            "Epoch 100/100\n",
            "18/18 [==============================] - 0s 6ms/step - loss: 111.9943 - val_loss: 595.9847\n"
          ]
        },
        {
          "output_type": "execute_result",
          "data": {
            "text/plain": [
              "<keras.callbacks.History at 0x7f058e2e8700>"
            ]
          },
          "metadata": {},
          "execution_count": 73
        }
      ]
    },
    {
      "cell_type": "code",
      "source": [
        "model_5.summary()"
      ],
      "metadata": {
        "colab": {
          "base_uri": "https://localhost:8080/"
        },
        "id": "-evI-pGqjRSk",
        "outputId": "7dcc77b2-688a-4dbf-815e-622ded9f3f72"
      },
      "execution_count": null,
      "outputs": [
        {
          "output_type": "stream",
          "name": "stdout",
          "text": [
            "Model: \"model_5_LSTM\"\n",
            "_________________________________________________________________\n",
            " Layer (type)                Output Shape              Param #   \n",
            "=================================================================\n",
            " input_2 (InputLayer)        [(None, 7)]               0         \n",
            "                                                                 \n",
            " lambda_2 (Lambda)           (None, 1, 7)              0         \n",
            "                                                                 \n",
            " lstm_1 (LSTM)               (None, 128)               69632     \n",
            "                                                                 \n",
            " dense_8 (Dense)             (None, 1)                 129       \n",
            "                                                                 \n",
            "=================================================================\n",
            "Total params: 69,761\n",
            "Trainable params: 69,761\n",
            "Non-trainable params: 0\n",
            "_________________________________________________________________\n"
          ]
        }
      ]
    },
    {
      "cell_type": "code",
      "source": [
        "# Evaluate\n",
        "model_5.evaluate(test_windows, test_labels)"
      ],
      "metadata": {
        "colab": {
          "base_uri": "https://localhost:8080/"
        },
        "id": "5eE3BeqPjVEU",
        "outputId": "defee020-89fa-48b7-adf1-e086429bb618"
      },
      "execution_count": null,
      "outputs": [
        {
          "output_type": "stream",
          "name": "stdout",
          "text": [
            "18/18 [==============================] - 0s 2ms/step - loss: 595.9847\n"
          ]
        },
        {
          "output_type": "execute_result",
          "data": {
            "text/plain": [
              "595.9847412109375"
            ]
          },
          "metadata": {},
          "execution_count": 75
        }
      ]
    },
    {
      "cell_type": "code",
      "source": [
        "# Evaluate with saved best version of model_5\n",
        "model_5 = tf.keras.models.load_model('/content/model_experiments/model_5_LSTM')\n",
        "model_5.evaluate(test_windows, test_labels)"
      ],
      "metadata": {
        "colab": {
          "base_uri": "https://localhost:8080/"
        },
        "id": "tbftMJk_IrGC",
        "outputId": "1acba023-b4a5-4953-d03a-81861d817a0d"
      },
      "execution_count": null,
      "outputs": [
        {
          "output_type": "stream",
          "name": "stderr",
          "text": [
            "WARNING:tensorflow:Layer lstm_1 will not use cuDNN kernels since it doesn't meet the criteria. It will use a generic GPU kernel as fallback when running on GPU.\n"
          ]
        },
        {
          "output_type": "stream",
          "name": "stdout",
          "text": [
            "18/18 [==============================] - 0s 2ms/step - loss: 594.6030\n"
          ]
        },
        {
          "output_type": "execute_result",
          "data": {
            "text/plain": [
              "594.6029663085938"
            ]
          },
          "metadata": {},
          "execution_count": 76
        }
      ]
    },
    {
      "cell_type": "code",
      "source": [
        "# Make prediction\n",
        "model_5_preds = make_preds(model_5, test_windows)"
      ],
      "metadata": {
        "colab": {
          "base_uri": "https://localhost:8080/"
        },
        "id": "Nj3of_VaJGkr",
        "outputId": "48c10241-e11d-4704-a69a-f46d4118eba0"
      },
      "execution_count": null,
      "outputs": [
        {
          "output_type": "stream",
          "name": "stdout",
          "text": [
            "18/18 [==============================] - 0s 2ms/step\n"
          ]
        }
      ]
    },
    {
      "cell_type": "code",
      "source": [
        "# Evaluate the predictions\n",
        "model_5_results = evaluate_preds(y_true=tf.squeeze(test_labels),\n",
        "                                 y_pred=model_5_preds)\n",
        "model_5_results"
      ],
      "metadata": {
        "colab": {
          "base_uri": "https://localhost:8080/"
        },
        "id": "JLTvgRVeJThi",
        "outputId": "66192f64-99c8-4a3b-8f03-bb5bae449635"
      },
      "execution_count": null,
      "outputs": [
        {
          "output_type": "execute_result",
          "data": {
            "text/plain": [
              "{'mae': 594.60297,\n",
              " 'mse': 1267231.9,\n",
              " 'rmse': 1125.7139,\n",
              " 'mape': 2.6717565,\n",
              " 'mase': 1.0445527}"
            ]
          },
          "metadata": {},
          "execution_count": 78
        }
      ]
    }
  ]
}